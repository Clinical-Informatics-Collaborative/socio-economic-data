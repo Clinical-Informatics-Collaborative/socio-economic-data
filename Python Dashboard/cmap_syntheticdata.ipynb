{
 "cells": [
  {
   "cell_type": "markdown",
   "metadata": {},
   "source": [
    "## Victoria mental illness issue and social-eco & geographic distribution\n",
    "\n",
    "> Implementation: Xingli Wang\n",
    "\n",
    "> Data generater: Sakshi , Zizhuo\n"
   ]
  },
  {
   "cell_type": "code",
   "execution_count": 1,
   "metadata": {},
   "outputs": [],
   "source": [
    "import pandas as pd\n",
    "import geopandas as gpd \n",
    "import matplotlib.pyplot as plt "
   ]
  },
  {
   "cell_type": "markdown",
   "metadata": {},
   "source": [
    "### Read Clinical data"
   ]
  },
  {
   "cell_type": "code",
   "execution_count": 2,
   "metadata": {},
   "outputs": [
    {
     "data": {
      "text/plain": [
       "Index(['Id', 'ZIP', 'RACE', 'GENDER', 'ETHNICITY', 'INCOME',\n",
       "       'HEALTHCARE_EXPENSES', 'HEALTHCARE_COVERAGE', 'CONDITION',\n",
       "       'OBSERVED_CONDITION', 'VALUE', 'Suburb'],\n",
       "      dtype='object')"
      ]
     },
     "execution_count": 2,
     "metadata": {},
     "output_type": "execute_result"
    }
   ],
   "source": [
    "synthetic = pd.read_csv(\"data/vic_anxiety.csv\")\n",
    "synthetic.columns"
   ]
  },
  {
   "cell_type": "code",
   "execution_count": 3,
   "metadata": {},
   "outputs": [
    {
     "data": {
      "text/plain": [
       "(14334, 12)"
      ]
     },
     "execution_count": 3,
     "metadata": {},
     "output_type": "execute_result"
    }
   ],
   "source": [
    "synthetic.shape"
   ]
  },
  {
   "cell_type": "markdown",
   "metadata": {},
   "source": [
    "### Synthetic dataset overview"
   ]
  },
  {
   "cell_type": "code",
   "execution_count": 4,
   "metadata": {},
   "outputs": [
    {
     "data": {
      "text/html": [
       "<div>\n",
       "<style scoped>\n",
       "    .dataframe tbody tr th:only-of-type {\n",
       "        vertical-align: middle;\n",
       "    }\n",
       "\n",
       "    .dataframe tbody tr th {\n",
       "        vertical-align: top;\n",
       "    }\n",
       "\n",
       "    .dataframe thead th {\n",
       "        text-align: right;\n",
       "    }\n",
       "</style>\n",
       "<table border=\"1\" class=\"dataframe\">\n",
       "  <thead>\n",
       "    <tr style=\"text-align: right;\">\n",
       "      <th></th>\n",
       "      <th>Id</th>\n",
       "      <th>ZIP</th>\n",
       "      <th>RACE</th>\n",
       "      <th>GENDER</th>\n",
       "      <th>ETHNICITY</th>\n",
       "      <th>INCOME</th>\n",
       "      <th>HEALTHCARE_EXPENSES</th>\n",
       "      <th>HEALTHCARE_COVERAGE</th>\n",
       "      <th>CONDITION</th>\n",
       "      <th>OBSERVED_CONDITION</th>\n",
       "      <th>VALUE</th>\n",
       "      <th>Suburb</th>\n",
       "    </tr>\n",
       "  </thead>\n",
       "  <tbody>\n",
       "    <tr>\n",
       "      <th>0</th>\n",
       "      <td>16c73553-9400-1f2c-bcf9-7b5ef75150d2</td>\n",
       "      <td>3000</td>\n",
       "      <td>white</td>\n",
       "      <td>F</td>\n",
       "      <td>hispanic</td>\n",
       "      <td>45504</td>\n",
       "      <td>286834.48</td>\n",
       "      <td>130435.94</td>\n",
       "      <td>Severe anxiety (panic) (finding)</td>\n",
       "      <td>Generalized anxiety disorder 7 item (GAD-7) to...</td>\n",
       "      <td>3.0</td>\n",
       "      <td>Melbourne</td>\n",
       "    </tr>\n",
       "    <tr>\n",
       "      <th>1</th>\n",
       "      <td>16c73553-9400-1f2c-bcf9-7b5ef75150d2</td>\n",
       "      <td>3000</td>\n",
       "      <td>white</td>\n",
       "      <td>F</td>\n",
       "      <td>hispanic</td>\n",
       "      <td>45504</td>\n",
       "      <td>286834.48</td>\n",
       "      <td>130435.94</td>\n",
       "      <td>Severe anxiety (panic) (finding)</td>\n",
       "      <td>Generalized anxiety disorder 7 item (GAD-7) to...</td>\n",
       "      <td>3.0</td>\n",
       "      <td>Melbourne</td>\n",
       "    </tr>\n",
       "    <tr>\n",
       "      <th>2</th>\n",
       "      <td>16c73553-9400-1f2c-bcf9-7b5ef75150d2</td>\n",
       "      <td>3000</td>\n",
       "      <td>white</td>\n",
       "      <td>F</td>\n",
       "      <td>hispanic</td>\n",
       "      <td>45504</td>\n",
       "      <td>286834.48</td>\n",
       "      <td>130435.94</td>\n",
       "      <td>Severe anxiety (panic) (finding)</td>\n",
       "      <td>Generalized anxiety disorder 7 item (GAD-7) to...</td>\n",
       "      <td>21.0</td>\n",
       "      <td>Melbourne</td>\n",
       "    </tr>\n",
       "    <tr>\n",
       "      <th>3</th>\n",
       "      <td>16c73553-9400-1f2c-bcf9-7b5ef75150d2</td>\n",
       "      <td>3000</td>\n",
       "      <td>white</td>\n",
       "      <td>F</td>\n",
       "      <td>hispanic</td>\n",
       "      <td>45504</td>\n",
       "      <td>286834.48</td>\n",
       "      <td>130435.94</td>\n",
       "      <td>Severe anxiety (panic) (finding)</td>\n",
       "      <td>Generalized anxiety disorder 7 item (GAD-7) to...</td>\n",
       "      <td>2.0</td>\n",
       "      <td>Melbourne</td>\n",
       "    </tr>\n",
       "    <tr>\n",
       "      <th>4</th>\n",
       "      <td>16c73553-9400-1f2c-bcf9-7b5ef75150d2</td>\n",
       "      <td>3000</td>\n",
       "      <td>white</td>\n",
       "      <td>F</td>\n",
       "      <td>hispanic</td>\n",
       "      <td>45504</td>\n",
       "      <td>286834.48</td>\n",
       "      <td>130435.94</td>\n",
       "      <td>Severe anxiety (panic) (finding)</td>\n",
       "      <td>Generalized anxiety disorder 7 item (GAD-7) to...</td>\n",
       "      <td>3.0</td>\n",
       "      <td>Melbourne</td>\n",
       "    </tr>\n",
       "  </tbody>\n",
       "</table>\n",
       "</div>"
      ],
      "text/plain": [
       "                                     Id   ZIP   RACE GENDER ETHNICITY  INCOME  \\\n",
       "0  16c73553-9400-1f2c-bcf9-7b5ef75150d2  3000  white      F  hispanic   45504   \n",
       "1  16c73553-9400-1f2c-bcf9-7b5ef75150d2  3000  white      F  hispanic   45504   \n",
       "2  16c73553-9400-1f2c-bcf9-7b5ef75150d2  3000  white      F  hispanic   45504   \n",
       "3  16c73553-9400-1f2c-bcf9-7b5ef75150d2  3000  white      F  hispanic   45504   \n",
       "4  16c73553-9400-1f2c-bcf9-7b5ef75150d2  3000  white      F  hispanic   45504   \n",
       "\n",
       "   HEALTHCARE_EXPENSES  HEALTHCARE_COVERAGE                         CONDITION  \\\n",
       "0            286834.48            130435.94  Severe anxiety (panic) (finding)   \n",
       "1            286834.48            130435.94  Severe anxiety (panic) (finding)   \n",
       "2            286834.48            130435.94  Severe anxiety (panic) (finding)   \n",
       "3            286834.48            130435.94  Severe anxiety (panic) (finding)   \n",
       "4            286834.48            130435.94  Severe anxiety (panic) (finding)   \n",
       "\n",
       "                                  OBSERVED_CONDITION  VALUE     Suburb  \n",
       "0  Generalized anxiety disorder 7 item (GAD-7) to...    3.0  Melbourne  \n",
       "1  Generalized anxiety disorder 7 item (GAD-7) to...    3.0  Melbourne  \n",
       "2  Generalized anxiety disorder 7 item (GAD-7) to...   21.0  Melbourne  \n",
       "3  Generalized anxiety disorder 7 item (GAD-7) to...    2.0  Melbourne  \n",
       "4  Generalized anxiety disorder 7 item (GAD-7) to...    3.0  Melbourne  "
      ]
     },
     "execution_count": 4,
     "metadata": {},
     "output_type": "execute_result"
    }
   ],
   "source": [
    "synthetic.head()"
   ]
  },
  {
   "cell_type": "code",
   "execution_count": 5,
   "metadata": {},
   "outputs": [
    {
     "data": {
      "text/plain": [
       "array(['Melbourne', 'Yarra', 'Port Phillip', 'Maribyrnong', 'Hobsons Bay',\n",
       "       'Brimbank', 'Wyndham', 'Moonee Valley', 'Moreland', 'Hume',\n",
       "       'Darebin', 'Banyule', 'Nillumbik', 'Manningham', 'Boroondara',\n",
       "       'Whitehorse', 'Maroondah', 'Yarra Ranges', 'Stonnington', 'Monash',\n",
       "       'Knox', 'Glen Eira', 'Greater Dandenong', 'Frankston',\n",
       "       'Greater Geelong', 'Queenscliffe', 'Surf Coast', 'Colac Otway',\n",
       "       'Corangamite', 'Warrnambool', 'Moyne', 'Glenelg', 'Ararat',\n",
       "       'Southern Grampians', 'West Wimmera', 'Golden Plains', 'Moorabool',\n",
       "       'Melton', 'Ballarat', 'Hepburn', 'Central Goldfields', 'Pyrenees',\n",
       "       'Northern Grampians', 'Horsham', 'Yarriambiack', 'Hindmarsh',\n",
       "       'Macedon Ranges', 'Mount Alexander', 'Buloke', 'Swan Hill',\n",
       "       'Mildura', 'Greater Bendigo', 'Loddon', 'Mitchell', 'Gannawarra',\n",
       "       'Campaspe', 'Strathbogie', 'Greater Shepparton', 'Moira'],\n",
       "      dtype=object)"
      ]
     },
     "execution_count": 5,
     "metadata": {},
     "output_type": "execute_result"
    }
   ],
   "source": [
    "synthetic.Suburb.unique()"
   ]
  },
  {
   "cell_type": "code",
   "execution_count": 6,
   "metadata": {
    "scrolled": true
   },
   "outputs": [
    {
     "data": {
      "text/plain": [
       "ETHNICITY\n",
       "hispanic       5877\n",
       "nonhispanic    8457\n",
       "dtype: int64"
      ]
     },
     "execution_count": 6,
     "metadata": {},
     "output_type": "execute_result"
    }
   ],
   "source": [
    "synthetic.groupby('ETHNICITY').size() "
   ]
  },
  {
   "cell_type": "code",
   "execution_count": 7,
   "metadata": {},
   "outputs": [
    {
     "data": {
      "text/plain": [
       "OBSERVED_CONDITION\n",
       "Generalized anxiety disorder 7 item (GAD-7) total score [Reported.PHQ]    14334\n",
       "dtype: int64"
      ]
     },
     "execution_count": 7,
     "metadata": {},
     "output_type": "execute_result"
    }
   ],
   "source": [
    "synthetic.groupby('OBSERVED_CONDITION').size()"
   ]
  },
  {
   "cell_type": "code",
   "execution_count": 8,
   "metadata": {},
   "outputs": [
    {
     "data": {
      "text/plain": [
       "GENDER\n",
       "F    8104\n",
       "M    6230\n",
       "dtype: int64"
      ]
     },
     "execution_count": 8,
     "metadata": {},
     "output_type": "execute_result"
    }
   ],
   "source": [
    "synthetic.groupby('GENDER').size()"
   ]
  },
  {
   "cell_type": "code",
   "execution_count": 9,
   "metadata": {},
   "outputs": [],
   "source": [
    "# Descriptive Statistics for numeric columns\n",
    "# synthetic.describe()"
   ]
  },
  {
   "cell_type": "markdown",
   "metadata": {},
   "source": [
    "#### Check Null value"
   ]
  },
  {
   "cell_type": "code",
   "execution_count": 10,
   "metadata": {},
   "outputs": [
    {
     "data": {
      "text/plain": [
       "Id                     0\n",
       "ZIP                    0\n",
       "RACE                   0\n",
       "GENDER                 0\n",
       "ETHNICITY              0\n",
       "INCOME                 0\n",
       "HEALTHCARE_EXPENSES    0\n",
       "HEALTHCARE_COVERAGE    0\n",
       "CONDITION              0\n",
       "OBSERVED_CONDITION     0\n",
       "VALUE                  0\n",
       "Suburb                 0\n",
       "dtype: int64"
      ]
     },
     "execution_count": 10,
     "metadata": {},
     "output_type": "execute_result"
    }
   ],
   "source": [
    "synthetic.isnull().sum()"
   ]
  },
  {
   "cell_type": "markdown",
   "metadata": {},
   "source": [
    "There is no missing value, hence we can start plotting."
   ]
  },
  {
   "cell_type": "markdown",
   "metadata": {},
   "source": [
    "### Read social-economic data"
   ]
  },
  {
   "cell_type": "code",
   "execution_count": 11,
   "metadata": {
    "scrolled": false
   },
   "outputs": [
    {
     "data": {
      "text/plain": [
       "Index(['2016 Postal Area (POA) Code',\n",
       "       'Relative Socio-economic Disadvantage Score',\n",
       "       'Relative Socio-economic Disadvantage Decile',\n",
       "       'Index of Relative Socio-economic Advantage and Disadvantage Score',\n",
       "       'Index of Relative Socio-economic Advantage and Disadvantage Decile',\n",
       "       'Index of Economic Resources Score',\n",
       "       'Index of Economic Resources Decile',\n",
       "       'Index of Education and Occupation Score',\n",
       "       'Index of Education and Occupation Decile',\n",
       "       'Usual Resident Population'],\n",
       "      dtype='object')"
      ]
     },
     "execution_count": 11,
     "metadata": {},
     "output_type": "execute_result"
    }
   ],
   "source": [
    "seifa = pd.read_csv(\"data/socialeco_data.csv\")\n",
    "seifa.columns"
   ]
  },
  {
   "cell_type": "code",
   "execution_count": 12,
   "metadata": {},
   "outputs": [
    {
     "data": {
      "text/plain": [
       "(2632, 10)"
      ]
     },
     "execution_count": 12,
     "metadata": {},
     "output_type": "execute_result"
    }
   ],
   "source": [
    "seifa.shape"
   ]
  },
  {
   "cell_type": "markdown",
   "metadata": {},
   "source": [
    "#### Drop the None value rows"
   ]
  },
  {
   "cell_type": "code",
   "execution_count": 13,
   "metadata": {},
   "outputs": [
    {
     "data": {
      "text/plain": [
       "2016 Postal Area (POA) Code                                           1\n",
       "Relative Socio-economic Disadvantage Score                            2\n",
       "Relative Socio-economic Disadvantage Decile                           2\n",
       "Index of Relative Socio-economic Advantage and Disadvantage Score     2\n",
       "Index of Relative Socio-economic Advantage and Disadvantage Decile    2\n",
       "Index of Economic Resources Score                                     2\n",
       "Index of Economic Resources Decile                                    2\n",
       "Index of Education and Occupation Score                               2\n",
       "Index of Education and Occupation Decile                              2\n",
       "Usual Resident Population                                             2\n",
       "dtype: int64"
      ]
     },
     "execution_count": 13,
     "metadata": {},
     "output_type": "execute_result"
    }
   ],
   "source": [
    "seifa.isna().sum()"
   ]
  },
  {
   "cell_type": "code",
   "execution_count": 14,
   "metadata": {},
   "outputs": [
    {
     "data": {
      "text/html": [
       "<div>\n",
       "<style scoped>\n",
       "    .dataframe tbody tr th:only-of-type {\n",
       "        vertical-align: middle;\n",
       "    }\n",
       "\n",
       "    .dataframe tbody tr th {\n",
       "        vertical-align: top;\n",
       "    }\n",
       "\n",
       "    .dataframe thead th {\n",
       "        text-align: right;\n",
       "    }\n",
       "</style>\n",
       "<table border=\"1\" class=\"dataframe\">\n",
       "  <thead>\n",
       "    <tr style=\"text-align: right;\">\n",
       "      <th></th>\n",
       "      <th>2016 Postal Area (POA) Code</th>\n",
       "      <th>Relative Socio-economic Disadvantage Score</th>\n",
       "      <th>Relative Socio-economic Disadvantage Decile</th>\n",
       "      <th>Index of Relative Socio-economic Advantage and Disadvantage Score</th>\n",
       "      <th>Index of Relative Socio-economic Advantage and Disadvantage Decile</th>\n",
       "      <th>Index of Economic Resources Score</th>\n",
       "      <th>Index of Economic Resources Decile</th>\n",
       "      <th>Index of Education and Occupation Score</th>\n",
       "      <th>Index of Education and Occupation Decile</th>\n",
       "      <th>Usual Resident Population</th>\n",
       "    </tr>\n",
       "  </thead>\n",
       "  <tbody>\n",
       "    <tr>\n",
       "      <th>2627</th>\n",
       "      <td>7468</td>\n",
       "      <td>967</td>\n",
       "      <td>4</td>\n",
       "      <td>937</td>\n",
       "      <td>3</td>\n",
       "      <td>964</td>\n",
       "      <td>3</td>\n",
       "      <td>917.0</td>\n",
       "      <td>2.0</td>\n",
       "      <td>708</td>\n",
       "    </tr>\n",
       "    <tr>\n",
       "      <th>2628</th>\n",
       "      <td>7469</td>\n",
       "      <td>823</td>\n",
       "      <td>1</td>\n",
       "      <td>821</td>\n",
       "      <td>1</td>\n",
       "      <td>867</td>\n",
       "      <td>1</td>\n",
       "      <td>825.0</td>\n",
       "      <td>1.0</td>\n",
       "      <td>768</td>\n",
       "    </tr>\n",
       "    <tr>\n",
       "      <th>2629</th>\n",
       "      <td>7470</td>\n",
       "      <td>885</td>\n",
       "      <td>1</td>\n",
       "      <td>881</td>\n",
       "      <td>1</td>\n",
       "      <td>893</td>\n",
       "      <td>1</td>\n",
       "      <td>883.0</td>\n",
       "      <td>1.0</td>\n",
       "      <td>708</td>\n",
       "    </tr>\n",
       "    <tr>\n",
       "      <th>2630</th>\n",
       "      <td>NaN</td>\n",
       "      <td>NaN</td>\n",
       "      <td>NaN</td>\n",
       "      <td>NaN</td>\n",
       "      <td>NaN</td>\n",
       "      <td>NaN</td>\n",
       "      <td>NaN</td>\n",
       "      <td>NaN</td>\n",
       "      <td>NaN</td>\n",
       "      <td>NaN</td>\n",
       "    </tr>\n",
       "    <tr>\n",
       "      <th>2631</th>\n",
       "      <td>© Commonwealth of Australia 2018</td>\n",
       "      <td>NaN</td>\n",
       "      <td>NaN</td>\n",
       "      <td>NaN</td>\n",
       "      <td>NaN</td>\n",
       "      <td>NaN</td>\n",
       "      <td>NaN</td>\n",
       "      <td>NaN</td>\n",
       "      <td>NaN</td>\n",
       "      <td>NaN</td>\n",
       "    </tr>\n",
       "  </tbody>\n",
       "</table>\n",
       "</div>"
      ],
      "text/plain": [
       "           2016 Postal Area (POA) Code  \\\n",
       "2627                              7468   \n",
       "2628                              7469   \n",
       "2629                              7470   \n",
       "2630                               NaN   \n",
       "2631  © Commonwealth of Australia 2018   \n",
       "\n",
       "     Relative Socio-economic Disadvantage Score  \\\n",
       "2627                                        967   \n",
       "2628                                        823   \n",
       "2629                                        885   \n",
       "2630                                        NaN   \n",
       "2631                                        NaN   \n",
       "\n",
       "     Relative Socio-economic Disadvantage Decile  \\\n",
       "2627                                           4   \n",
       "2628                                           1   \n",
       "2629                                           1   \n",
       "2630                                         NaN   \n",
       "2631                                         NaN   \n",
       "\n",
       "     Index of Relative Socio-economic Advantage and Disadvantage Score  \\\n",
       "2627                                                937                  \n",
       "2628                                                821                  \n",
       "2629                                                881                  \n",
       "2630                                                NaN                  \n",
       "2631                                                NaN                  \n",
       "\n",
       "     Index of Relative Socio-economic Advantage and Disadvantage Decile  \\\n",
       "2627                                                  3                   \n",
       "2628                                                  1                   \n",
       "2629                                                  1                   \n",
       "2630                                                NaN                   \n",
       "2631                                                NaN                   \n",
       "\n",
       "     Index of Economic Resources Score Index of Economic Resources Decile  \\\n",
       "2627                               964                                  3   \n",
       "2628                               867                                  1   \n",
       "2629                               893                                  1   \n",
       "2630                               NaN                                NaN   \n",
       "2631                               NaN                                NaN   \n",
       "\n",
       "      Index of Education and Occupation Score  \\\n",
       "2627                                    917.0   \n",
       "2628                                    825.0   \n",
       "2629                                    883.0   \n",
       "2630                                      NaN   \n",
       "2631                                      NaN   \n",
       "\n",
       "      Index of Education and Occupation Decile Usual Resident Population  \n",
       "2627                                       2.0                       708  \n",
       "2628                                       1.0                       768  \n",
       "2629                                       1.0                       708  \n",
       "2630                                       NaN                       NaN  \n",
       "2631                                       NaN                       NaN  "
      ]
     },
     "execution_count": 14,
     "metadata": {},
     "output_type": "execute_result"
    }
   ],
   "source": [
    "seifa.tail()"
   ]
  },
  {
   "cell_type": "code",
   "execution_count": 15,
   "metadata": {},
   "outputs": [
    {
     "name": "stdout",
     "output_type": "stream",
     "text": [
      "  2016 Postal Area (POA) Code Relative Socio-economic Disadvantage Score  \\\n",
      "0                         800                                       1066   \n",
      "1                         810                                       1037   \n",
      "2                         812                                       1013   \n",
      "3                         815                                       1075   \n",
      "4                         820                                       1073   \n",
      "\n",
      "  Relative Socio-economic Disadvantage Decile  \\\n",
      "0                                           9   \n",
      "1                                           8   \n",
      "2                                           6   \n",
      "3                                           9   \n",
      "4                                           9   \n",
      "\n",
      "  Index of Relative Socio-economic Advantage and Disadvantage Score  \\\n",
      "0                                               1096                  \n",
      "1                                               1052                  \n",
      "2                                               1020                  \n",
      "3                                               1096                  \n",
      "4                                               1094                  \n",
      "\n",
      "  Index of Relative Socio-economic Advantage and Disadvantage Decile  \\\n",
      "0                                                 10                   \n",
      "1                                                  9                   \n",
      "2                                                  7                   \n",
      "3                                                 10                   \n",
      "4                                                 10                   \n",
      "\n",
      "  Index of Economic Resources Score Index of Economic Resources Decile  \\\n",
      "0                               946                                  2   \n",
      "1                              1014                                  6   \n",
      "2                              1013                                  6   \n",
      "3                              1075                                  9   \n",
      "4                              1011                                  6   \n",
      "\n",
      "   Index of Education and Occupation Score  \\\n",
      "0                                   1089.0   \n",
      "1                                   1045.0   \n",
      "2                                    997.0   \n",
      "3                                   1096.0   \n",
      "4                                   1085.0   \n",
      "\n",
      "   Index of Education and Occupation Decile Usual Resident Population  \n",
      "0                                       9.0                     6,464  \n",
      "1                                       8.0                    33,302  \n",
      "2                                       6.0                    18,873  \n",
      "3                                       9.0                       292  \n",
      "4                                       9.0                    19,447   \n",
      " (2630, 10)\n"
     ]
    }
   ],
   "source": [
    "# Number of rows to drop\n",
    "n = 2\n",
    " \n",
    "# Dropping last n rows using drop\n",
    "seifa.drop(seifa.tail(n).index, inplace = True)\n",
    "print(seifa.head(), '\\n', seifa.shape)"
   ]
  },
  {
   "cell_type": "markdown",
   "metadata": {},
   "source": [
    "### Filter Victoria SEIFA data using zip code in synthetic datasets"
   ]
  },
  {
   "cell_type": "code",
   "execution_count": 16,
   "metadata": {},
   "outputs": [],
   "source": [
    "a = synthetic['ZIP'].unique().astype(str)\n",
    "vic_seifa = seifa[seifa['2016 Postal Area (POA) Code'].isin(a)]"
   ]
  },
  {
   "cell_type": "code",
   "execution_count": 17,
   "metadata": {},
   "outputs": [
    {
     "data": {
      "text/plain": [
       "(443, 10)"
      ]
     },
     "execution_count": 17,
     "metadata": {},
     "output_type": "execute_result"
    }
   ],
   "source": [
    "vic_seifa.shape"
   ]
  },
  {
   "cell_type": "code",
   "execution_count": 18,
   "metadata": {},
   "outputs": [],
   "source": [
    "synthetic.ZIP = synthetic.ZIP.astype(str)"
   ]
  },
  {
   "cell_type": "markdown",
   "metadata": {},
   "source": [
    "### Prepare to plot the Choropleth map"
   ]
  },
  {
   "cell_type": "markdown",
   "metadata": {},
   "source": [
    "### Merge social economic dataset and victoria mental illness dataset on the zip column"
   ]
  },
  {
   "cell_type": "code",
   "execution_count": 19,
   "metadata": {},
   "outputs": [
    {
     "data": {
      "text/plain": [
       "59"
      ]
     },
     "execution_count": 19,
     "metadata": {},
     "output_type": "execute_result"
    }
   ],
   "source": [
    "synthetic['Suburb'].nunique()"
   ]
  },
  {
   "cell_type": "code",
   "execution_count": 20,
   "metadata": {},
   "outputs": [
    {
     "data": {
      "text/plain": [
       "True     13834\n",
       "False      500\n",
       "Name: ZIP, dtype: int64"
      ]
     },
     "execution_count": 20,
     "metadata": {},
     "output_type": "execute_result"
    }
   ],
   "source": [
    "synthetic['ZIP'].isin(vic_seifa['2016 Postal Area (POA) Code']).value_counts()"
   ]
  },
  {
   "cell_type": "code",
   "execution_count": 21,
   "metadata": {},
   "outputs": [
    {
     "data": {
      "text/plain": [
       "(460, 443)"
      ]
     },
     "execution_count": 21,
     "metadata": {},
     "output_type": "execute_result"
    }
   ],
   "source": [
    "synthetic['ZIP'].nunique(), synthetic[synthetic['ZIP'].isin(vic_seifa['2016 Postal Area (POA) Code'])].ZIP.nunique()"
   ]
  },
  {
   "cell_type": "code",
   "execution_count": 22,
   "metadata": {},
   "outputs": [
    {
     "data": {
      "text/plain": [
       "(Index(['Id', 'ZIP', 'RACE', 'GENDER', 'ETHNICITY', 'INCOME',\n",
       "        'HEALTHCARE_EXPENSES', 'HEALTHCARE_COVERAGE', 'CONDITION',\n",
       "        'OBSERVED_CONDITION', 'VALUE', 'Suburb', '2016 Postal Area (POA) Code',\n",
       "        'Index of Relative Socio-economic Advantage and Disadvantage Decile',\n",
       "        'Index of Economic Resources Decile'],\n",
       "       dtype='object'),\n",
       " (13834, 15))"
      ]
     },
     "execution_count": 22,
     "metadata": {},
     "output_type": "execute_result"
    }
   ],
   "source": [
    "merged_anxiety = synthetic.merge(vic_seifa[['2016 Postal Area (POA) Code', 'Index of Relative Socio-economic Advantage and Disadvantage Decile', 'Index of Economic Resources Decile']], left_on='ZIP', right_on = '2016 Postal Area (POA) Code')\n",
    "\n",
    "merged_anxiety.columns, merged_anxiety.shape"
   ]
  },
  {
   "cell_type": "code",
   "execution_count": 42,
   "metadata": {},
   "outputs": [
    {
     "data": {
      "text/plain": [
       "Id                                                                    0\n",
       "ZIP                                                                   0\n",
       "RACE                                                                  0\n",
       "GENDER                                                                0\n",
       "ETHNICITY                                                             0\n",
       "INCOME                                                                0\n",
       "HEALTHCARE_EXPENSES                                                   0\n",
       "HEALTHCARE_COVERAGE                                                   0\n",
       "CONDITION                                                             0\n",
       "OBSERVED_CONDITION                                                    0\n",
       "VALUE                                                                 0\n",
       "Suburb                                                                0\n",
       "2016 Postal Area (POA) Code                                           0\n",
       "Index of Relative Socio-economic Advantage and Disadvantage Decile    0\n",
       "Index of Economic Resources Decile                                    0\n",
       "dtype: int64"
      ]
     },
     "execution_count": 42,
     "metadata": {},
     "output_type": "execute_result"
    }
   ],
   "source": [
    "merged_anxiety.isnull().sum()"
   ]
  },
  {
   "cell_type": "code",
   "execution_count": 23,
   "metadata": {},
   "outputs": [
    {
     "data": {
      "text/html": [
       "<div>\n",
       "<style scoped>\n",
       "    .dataframe tbody tr th:only-of-type {\n",
       "        vertical-align: middle;\n",
       "    }\n",
       "\n",
       "    .dataframe tbody tr th {\n",
       "        vertical-align: top;\n",
       "    }\n",
       "\n",
       "    .dataframe thead th {\n",
       "        text-align: right;\n",
       "    }\n",
       "</style>\n",
       "<table border=\"1\" class=\"dataframe\">\n",
       "  <thead>\n",
       "    <tr style=\"text-align: right;\">\n",
       "      <th></th>\n",
       "      <th>Id</th>\n",
       "      <th>ZIP</th>\n",
       "      <th>RACE</th>\n",
       "      <th>GENDER</th>\n",
       "      <th>ETHNICITY</th>\n",
       "      <th>INCOME</th>\n",
       "      <th>HEALTHCARE_EXPENSES</th>\n",
       "      <th>HEALTHCARE_COVERAGE</th>\n",
       "      <th>CONDITION</th>\n",
       "      <th>OBSERVED_CONDITION</th>\n",
       "      <th>VALUE</th>\n",
       "      <th>Suburb</th>\n",
       "      <th>2016 Postal Area (POA) Code</th>\n",
       "      <th>Index of Relative Socio-economic Advantage and Disadvantage Decile</th>\n",
       "      <th>Index of Economic Resources Decile</th>\n",
       "    </tr>\n",
       "  </thead>\n",
       "  <tbody>\n",
       "    <tr>\n",
       "      <th>0</th>\n",
       "      <td>16c73553-9400-1f2c-bcf9-7b5ef75150d2</td>\n",
       "      <td>3000</td>\n",
       "      <td>white</td>\n",
       "      <td>F</td>\n",
       "      <td>hispanic</td>\n",
       "      <td>45504</td>\n",
       "      <td>286834.48</td>\n",
       "      <td>130435.94</td>\n",
       "      <td>Severe anxiety (panic) (finding)</td>\n",
       "      <td>Generalized anxiety disorder 7 item (GAD-7) to...</td>\n",
       "      <td>3.0</td>\n",
       "      <td>Melbourne</td>\n",
       "      <td>3000</td>\n",
       "      <td>8</td>\n",
       "      <td>1</td>\n",
       "    </tr>\n",
       "    <tr>\n",
       "      <th>1</th>\n",
       "      <td>16c73553-9400-1f2c-bcf9-7b5ef75150d2</td>\n",
       "      <td>3000</td>\n",
       "      <td>white</td>\n",
       "      <td>F</td>\n",
       "      <td>hispanic</td>\n",
       "      <td>45504</td>\n",
       "      <td>286834.48</td>\n",
       "      <td>130435.94</td>\n",
       "      <td>Severe anxiety (panic) (finding)</td>\n",
       "      <td>Generalized anxiety disorder 7 item (GAD-7) to...</td>\n",
       "      <td>3.0</td>\n",
       "      <td>Melbourne</td>\n",
       "      <td>3000</td>\n",
       "      <td>8</td>\n",
       "      <td>1</td>\n",
       "    </tr>\n",
       "    <tr>\n",
       "      <th>2</th>\n",
       "      <td>16c73553-9400-1f2c-bcf9-7b5ef75150d2</td>\n",
       "      <td>3000</td>\n",
       "      <td>white</td>\n",
       "      <td>F</td>\n",
       "      <td>hispanic</td>\n",
       "      <td>45504</td>\n",
       "      <td>286834.48</td>\n",
       "      <td>130435.94</td>\n",
       "      <td>Severe anxiety (panic) (finding)</td>\n",
       "      <td>Generalized anxiety disorder 7 item (GAD-7) to...</td>\n",
       "      <td>21.0</td>\n",
       "      <td>Melbourne</td>\n",
       "      <td>3000</td>\n",
       "      <td>8</td>\n",
       "      <td>1</td>\n",
       "    </tr>\n",
       "    <tr>\n",
       "      <th>3</th>\n",
       "      <td>16c73553-9400-1f2c-bcf9-7b5ef75150d2</td>\n",
       "      <td>3000</td>\n",
       "      <td>white</td>\n",
       "      <td>F</td>\n",
       "      <td>hispanic</td>\n",
       "      <td>45504</td>\n",
       "      <td>286834.48</td>\n",
       "      <td>130435.94</td>\n",
       "      <td>Severe anxiety (panic) (finding)</td>\n",
       "      <td>Generalized anxiety disorder 7 item (GAD-7) to...</td>\n",
       "      <td>2.0</td>\n",
       "      <td>Melbourne</td>\n",
       "      <td>3000</td>\n",
       "      <td>8</td>\n",
       "      <td>1</td>\n",
       "    </tr>\n",
       "    <tr>\n",
       "      <th>4</th>\n",
       "      <td>16c73553-9400-1f2c-bcf9-7b5ef75150d2</td>\n",
       "      <td>3000</td>\n",
       "      <td>white</td>\n",
       "      <td>F</td>\n",
       "      <td>hispanic</td>\n",
       "      <td>45504</td>\n",
       "      <td>286834.48</td>\n",
       "      <td>130435.94</td>\n",
       "      <td>Severe anxiety (panic) (finding)</td>\n",
       "      <td>Generalized anxiety disorder 7 item (GAD-7) to...</td>\n",
       "      <td>3.0</td>\n",
       "      <td>Melbourne</td>\n",
       "      <td>3000</td>\n",
       "      <td>8</td>\n",
       "      <td>1</td>\n",
       "    </tr>\n",
       "  </tbody>\n",
       "</table>\n",
       "</div>"
      ],
      "text/plain": [
       "                                     Id   ZIP   RACE GENDER ETHNICITY  INCOME  \\\n",
       "0  16c73553-9400-1f2c-bcf9-7b5ef75150d2  3000  white      F  hispanic   45504   \n",
       "1  16c73553-9400-1f2c-bcf9-7b5ef75150d2  3000  white      F  hispanic   45504   \n",
       "2  16c73553-9400-1f2c-bcf9-7b5ef75150d2  3000  white      F  hispanic   45504   \n",
       "3  16c73553-9400-1f2c-bcf9-7b5ef75150d2  3000  white      F  hispanic   45504   \n",
       "4  16c73553-9400-1f2c-bcf9-7b5ef75150d2  3000  white      F  hispanic   45504   \n",
       "\n",
       "   HEALTHCARE_EXPENSES  HEALTHCARE_COVERAGE                         CONDITION  \\\n",
       "0            286834.48            130435.94  Severe anxiety (panic) (finding)   \n",
       "1            286834.48            130435.94  Severe anxiety (panic) (finding)   \n",
       "2            286834.48            130435.94  Severe anxiety (panic) (finding)   \n",
       "3            286834.48            130435.94  Severe anxiety (panic) (finding)   \n",
       "4            286834.48            130435.94  Severe anxiety (panic) (finding)   \n",
       "\n",
       "                                  OBSERVED_CONDITION  VALUE     Suburb  \\\n",
       "0  Generalized anxiety disorder 7 item (GAD-7) to...    3.0  Melbourne   \n",
       "1  Generalized anxiety disorder 7 item (GAD-7) to...    3.0  Melbourne   \n",
       "2  Generalized anxiety disorder 7 item (GAD-7) to...   21.0  Melbourne   \n",
       "3  Generalized anxiety disorder 7 item (GAD-7) to...    2.0  Melbourne   \n",
       "4  Generalized anxiety disorder 7 item (GAD-7) to...    3.0  Melbourne   \n",
       "\n",
       "  2016 Postal Area (POA) Code  \\\n",
       "0                        3000   \n",
       "1                        3000   \n",
       "2                        3000   \n",
       "3                        3000   \n",
       "4                        3000   \n",
       "\n",
       "  Index of Relative Socio-economic Advantage and Disadvantage Decile  \\\n",
       "0                                                  8                   \n",
       "1                                                  8                   \n",
       "2                                                  8                   \n",
       "3                                                  8                   \n",
       "4                                                  8                   \n",
       "\n",
       "  Index of Economic Resources Decile  \n",
       "0                                  1  \n",
       "1                                  1  \n",
       "2                                  1  \n",
       "3                                  1  \n",
       "4                                  1  "
      ]
     },
     "execution_count": 23,
     "metadata": {},
     "output_type": "execute_result"
    }
   ],
   "source": [
    "merged_anxiety.head()"
   ]
  },
  {
   "cell_type": "code",
   "execution_count": 24,
   "metadata": {},
   "outputs": [
    {
     "data": {
      "text/plain": [
       "(443, 443, 59)"
      ]
     },
     "execution_count": 24,
     "metadata": {},
     "output_type": "execute_result"
    }
   ],
   "source": [
    "# check unique number of zip code in new df\n",
    "merged_anxiety['2016 Postal Area (POA) Code'].nunique(), merged_anxiety['ZIP'].nunique(), merged_anxiety['Suburb'].nunique()"
   ]
  },
  {
   "cell_type": "code",
   "execution_count": 25,
   "metadata": {},
   "outputs": [],
   "source": [
    "merged_anxiety['Index of Relative Socio-economic Advantage and Disadvantage Decile'] = merged_anxiety['Index of Relative Socio-economic Advantage and Disadvantage Decile'].astype('int')\n",
    "merged_anxiety['Index of Economic Resources Decile'] = merged_anxiety['Index of Economic Resources Decile'].astype('int')\n"
   ]
  },
  {
   "cell_type": "markdown",
   "metadata": {},
   "source": [
    " # Number of patient visits and severity of anxiety vary by gender, income(healthcare) and region\n",
    " \n",
    "# Economic Resources and anxiety severity"
   ]
  },
  {
   "cell_type": "code",
   "execution_count": 26,
   "metadata": {},
   "outputs": [],
   "source": [
    "# Ratio between healthcare coverage and healthcare expense\n",
    "hc_ratio = synthetic['HEALTHCARE_COVERAGE']/synthetic['HEALTHCARE_EXPENSES']"
   ]
  },
  {
   "cell_type": "code",
   "execution_count": 27,
   "metadata": {
    "scrolled": true
   },
   "outputs": [
    {
     "name": "stdout",
     "output_type": "stream",
     "text": [
      "There are 664 patients out of 14334 data.\n"
     ]
    }
   ],
   "source": [
    "print(f\"There are\", synthetic.Id.nunique(), \"patients\", \"out of\", synthetic.shape[0], \"data.\") "
   ]
  },
  {
   "cell_type": "markdown",
   "metadata": {},
   "source": [
    "### Plot Choropleth Map"
   ]
  },
  {
   "cell_type": "code",
   "execution_count": 28,
   "metadata": {},
   "outputs": [],
   "source": [
    "# Import the geopandas and geoplot libraries\n",
    "import geoplot as gplt\n",
    "\n",
    "# Load the json file with county coordinates\n",
    "# geoData = gpd.read_file('https://data.gov.au/geoserver/vic-suburb-locality-boundaries-psma-administrative-boundaries/wfs?request=GetFeature&typeName=ckan_af33dd8c_0534_4e18_9245_fc64440f742e&outputFormat=json')\n",
    "\n",
    "geodata = gpd.read_file(\"data/GDA2020/vic_localities.shp\")"
   ]
  },
  {
   "cell_type": "code",
   "execution_count": 77,
   "metadata": {},
   "outputs": [
    {
     "data": {
      "text/plain": [
       "<Axes: >"
      ]
     },
     "execution_count": 77,
     "metadata": {},
     "output_type": "execute_result"
    },
    {
     "data": {
      "image/png": "[encoded data removed]",
      "text/plain": [
       "<Figure size 1100x1100 with 1 Axes>"
      ]
     },
     "metadata": {},
     "output_type": "display_data"
    }
   ],
   "source": [
    "geodata .plot(figsize=(11,11),color=\"lightgrey\")"
   ]
  },
  {
   "cell_type": "code",
   "execution_count": 29,
   "metadata": {},
   "outputs": [
    {
     "data": {
      "text/plain": [
       "LC_PLY_PID    0\n",
       "LOC_PID       0\n",
       "DT_CREATE     0\n",
       "LOC_NAME      0\n",
       "LOC_CLASS     0\n",
       "STATE         0\n",
       "geometry      0\n",
       "dtype: int64"
      ]
     },
     "execution_count": 29,
     "metadata": {},
     "output_type": "execute_result"
    }
   ],
   "source": [
    "# Check the missing values\n",
    "geodata.isna().sum()"
   ]
  },
  {
   "cell_type": "code",
   "execution_count": 30,
   "metadata": {
    "scrolled": true
   },
   "outputs": [
    {
     "data": {
      "text/plain": [
       "(2957,\n",
       "         LC_PLY_PID          LOC_PID   DT_CREATE    LOC_NAME  \\\n",
       " 0  lcp-ejVyte1DxXx  locb0dcb52a6b55  2023-06-26    Abbeyard   \n",
       " 1  lcp386f2bcf9bce  locb9872f35df41  2021-06-24  Abbotsford   \n",
       " 2  lcprFRP2-cPMfr5  loc8123ed12ea8d  2023-03-21  Aberfeldie   \n",
       " 3  lcp9f50bd795d16  loc1eb4a229104a  2021-06-24   Aberfeldy   \n",
       " 4  lcpsdH5r5m618DN  locb17be87767e1  2023-06-26     Acheron   \n",
       " \n",
       "            LOC_CLASS STATE                                           geometry  \n",
       " 0  Gazetted Locality   VIC  POLYGON ((146.81722 -37.09734, 146.81729 -37.0...  \n",
       " 1  Gazetted Locality   VIC  POLYGON ((145.00235 -37.80722, 145.00350 -37.8...  \n",
       " 2  Gazetted Locality   VIC  POLYGON ((144.89830 -37.76464, 144.89790 -37.7...  \n",
       " 3  Gazetted Locality   VIC  POLYGON ((146.39448 -37.71006, 146.39405 -37.7...  \n",
       " 4  Gazetted Locality   VIC  POLYGON ((145.75030 -37.24312, 145.75037 -37.2...  )"
      ]
     },
     "execution_count": 30,
     "metadata": {},
     "output_type": "execute_result"
    }
   ],
   "source": [
    "geodata.LOC_NAME.nunique(), geodata.head()"
   ]
  },
  {
   "cell_type": "markdown",
   "metadata": {},
   "source": [
    "Check the number of included Victoria suburb from fullData in Geodata."
   ]
  },
  {
   "cell_type": "code",
   "execution_count": 31,
   "metadata": {
    "scrolled": false
   },
   "outputs": [
    {
     "data": {
      "text/plain": [
       "((6325, 22),\n",
       " Index(['LC_PLY_PID', 'LOC_PID', 'DT_CREATE', 'LOC_NAME', 'LOC_CLASS', 'STATE',\n",
       "        'geometry', 'Id', 'ZIP', 'RACE', 'GENDER', 'ETHNICITY', 'INCOME',\n",
       "        'HEALTHCARE_EXPENSES', 'HEALTHCARE_COVERAGE', 'CONDITION',\n",
       "        'OBSERVED_CONDITION', 'VALUE', 'Suburb', '2016 Postal Area (POA) Code',\n",
       "        'Index of Relative Socio-economic Advantage and Disadvantage Decile',\n",
       "        'Index of Economic Resources Decile'],\n",
       "       dtype='object'))"
      ]
     },
     "execution_count": 31,
     "metadata": {},
     "output_type": "execute_result"
    }
   ],
   "source": [
    "# Merge clinical data and geographicial data\n",
    "fullData = geodata.merge(merged_anxiety, how='left', left_on=['LOC_NAME'], right_on=['Suburb'])\n",
    "fullData.shape, fullData.columns"
   ]
  },
  {
   "cell_type": "code",
   "execution_count": 32,
   "metadata": {},
   "outputs": [
    {
     "data": {
      "text/plain": [
       "array(['Abbeyard', 'Abbotsford', 'Aberfeldie', ..., 'Yuulong', 'Zeerust',\n",
       "       'Zumsteins'], dtype=object)"
      ]
     },
     "execution_count": 32,
     "metadata": {},
     "output_type": "execute_result"
    }
   ],
   "source": [
    "fullData['LOC_NAME'].unique()"
   ]
  },
  {
   "cell_type": "code",
   "execution_count": 33,
   "metadata": {},
   "outputs": [
    {
     "data": {
      "text/plain": [
       "LC_PLY_PID                                                               0\n",
       "LOC_PID                                                                  0\n",
       "DT_CREATE                                                                0\n",
       "LOC_NAME                                                                 0\n",
       "LOC_CLASS                                                                0\n",
       "STATE                                                                    0\n",
       "geometry                                                                 0\n",
       "Id                                                                    2960\n",
       "ZIP                                                                   2960\n",
       "RACE                                                                  2960\n",
       "GENDER                                                                2960\n",
       "ETHNICITY                                                             2960\n",
       "INCOME                                                                2960\n",
       "HEALTHCARE_EXPENSES                                                   2960\n",
       "HEALTHCARE_COVERAGE                                                   2960\n",
       "CONDITION                                                             2960\n",
       "OBSERVED_CONDITION                                                    2960\n",
       "VALUE                                                                 2960\n",
       "Suburb                                                                2960\n",
       "2016 Postal Area (POA) Code                                           2960\n",
       "Index of Relative Socio-economic Advantage and Disadvantage Decile    2960\n",
       "Index of Economic Resources Decile                                    2960\n",
       "dtype: int64"
      ]
     },
     "execution_count": 33,
     "metadata": {},
     "output_type": "execute_result"
    }
   ],
   "source": [
    "fullData.isna().sum()"
   ]
  },
  {
   "cell_type": "code",
   "execution_count": 45,
   "metadata": {},
   "outputs": [],
   "source": [
    "# Drop null values\n",
    "fullData_new = fullData.dropna()"
   ]
  },
  {
   "cell_type": "code",
   "execution_count": 47,
   "metadata": {},
   "outputs": [
    {
     "data": {
      "text/plain": [
       "((3365, 22),\n",
       " LC_PLY_PID                                                            0\n",
       " LOC_PID                                                               0\n",
       " DT_CREATE                                                             0\n",
       " LOC_NAME                                                              0\n",
       " LOC_CLASS                                                             0\n",
       " STATE                                                                 0\n",
       " geometry                                                              0\n",
       " Id                                                                    0\n",
       " ZIP                                                                   0\n",
       " RACE                                                                  0\n",
       " GENDER                                                                0\n",
       " ETHNICITY                                                             0\n",
       " INCOME                                                                0\n",
       " HEALTHCARE_EXPENSES                                                   0\n",
       " HEALTHCARE_COVERAGE                                                   0\n",
       " CONDITION                                                             0\n",
       " OBSERVED_CONDITION                                                    0\n",
       " VALUE                                                                 0\n",
       " Suburb                                                                0\n",
       " 2016 Postal Area (POA) Code                                           0\n",
       " Index of Relative Socio-economic Advantage and Disadvantage Decile    0\n",
       " Index of Economic Resources Decile                                    0\n",
       " dtype: int64)"
      ]
     },
     "execution_count": 47,
     "metadata": {},
     "output_type": "execute_result"
    }
   ],
   "source": [
    "fullData_new.shape, fullData_new.isna().sum()"
   ]
  },
  {
   "cell_type": "code",
   "execution_count": null,
   "metadata": {},
   "outputs": [],
   "source": []
  },
  {
   "cell_type": "markdown",
   "metadata": {},
   "source": [
    "### Check if it is the correct merge method to keep all data, fullData VS non-null data, fullData_new"
   ]
  },
  {
   "cell_type": "code",
   "execution_count": 34,
   "metadata": {},
   "outputs": [
    {
     "data": {
      "text/plain": [
       "False    2960\n",
       "True       13\n",
       "Name: LOC_NAME, dtype: int64"
      ]
     },
     "execution_count": 34,
     "metadata": {},
     "output_type": "execute_result"
    }
   ],
   "source": [
    "geodata['LOC_NAME'].isin(merged_anxiety['Suburb']).value_counts()"
   ]
  },
  {
   "cell_type": "code",
   "execution_count": 35,
   "metadata": {},
   "outputs": [
    {
     "data": {
      "text/plain": [
       "False    2960\n",
       "True       13\n",
       "Name: LOC_NAME, dtype: int64"
      ]
     },
     "execution_count": 35,
     "metadata": {},
     "output_type": "execute_result"
    }
   ],
   "source": [
    "geodata['LOC_NAME'].isin(fullData['Suburb']).value_counts()"
   ]
  },
  {
   "cell_type": "code",
   "execution_count": 48,
   "metadata": {},
   "outputs": [
    {
     "data": {
      "text/plain": [
       "(13, 13, 2957)"
      ]
     },
     "execution_count": 48,
     "metadata": {},
     "output_type": "execute_result"
    }
   ],
   "source": [
    "fullData['Suburb'].nunique(), fullData_new['Suburb'].nunique(),  geodata['LOC_NAME'].nunique()"
   ]
  },
  {
   "cell_type": "markdown",
   "metadata": {},
   "source": [
    "> Number of unique suburbs in Victoria is 2957, whereas, the synthetic data generated by Synthea has 13 unique suburbs in Victoria. "
   ]
  },
  {
   "cell_type": "code",
   "execution_count": 37,
   "metadata": {},
   "outputs": [
    {
     "data": {
      "text/plain": [
       "(443, 59, 13, 2957)"
      ]
     },
     "execution_count": 37,
     "metadata": {},
     "output_type": "execute_result"
    }
   ],
   "source": [
    "# merged_anxiety.groupby('Id')['Suburb'].nunique()\n",
    "merged_anxiety['ZIP'].nunique(), merged_anxiety['Suburb'].nunique(), fullData['Suburb'].nunique(), fullData['LOC_NAME'].nunique()\n",
    "\n",
    "# ??if these two is not the same, wrong merge method\n",
    "# assert(merged_anxiety['Suburb'].nunique()==fullData['LOC_NAME'].nunique())"
   ]
  },
  {
   "cell_type": "code",
   "execution_count": 38,
   "metadata": {},
   "outputs": [
    {
     "data": {
      "text/plain": [
       "(92, 92)"
      ]
     },
     "execution_count": 38,
     "metadata": {},
     "output_type": "execute_result"
    }
   ],
   "source": [
    "fullData['2016 Postal Area (POA) Code'].nunique(), fullData['ZIP'].nunique()"
   ]
  },
  {
   "cell_type": "code",
   "execution_count": 39,
   "metadata": {
    "scrolled": true
   },
   "outputs": [
    {
     "data": {
      "text/plain": [
       "Id\n",
       "0362cc19-bcf7-8f38-6020-dfad9e278862     64\n",
       "05cdcee1-5aca-5087-910a-eb3529e59fd4      3\n",
       "0734d372-cdec-41c5-0424-801d1d00555b     10\n",
       "07c9a963-1dc4-872a-9d0d-536b4fbf973c    165\n",
       "0c3128eb-d3aa-3a97-5c53-f7817ce06943     21\n",
       "                                       ... \n",
       "f3b1a046-bd76-a1f4-9406-db7740714982    100\n",
       "f542b22e-5937-9e37-b605-93e98a7e1d45      5\n",
       "f5be926e-4aac-fb74-6854-09d3426204c3     47\n",
       "f704d8e6-520b-3e86-e0da-c68f6b1872a2     18\n",
       "fffe51a2-5f76-d521-6079-bce7b606b42e      4\n",
       "Name: Suburb, Length: 132, dtype: int64"
      ]
     },
     "execution_count": 39,
     "metadata": {},
     "output_type": "execute_result"
    }
   ],
   "source": [
    "fullData.groupby('Id')['Suburb'].size()"
   ]
  },
  {
   "cell_type": "markdown",
   "metadata": {},
   "source": [
    "## Choropleth map - Relative Socio-economic Advantage and Disadvantage Decile"
   ]
  },
  {
   "cell_type": "code",
   "execution_count": 40,
   "metadata": {},
   "outputs": [],
   "source": [
    "import warnings\n",
    "warnings.simplefilter(action='ignore', category=FutureWarning)"
   ]
  },
  {
   "cell_type": "code",
   "execution_count": 72,
   "metadata": {},
   "outputs": [
    {
     "ename": "ValueError",
     "evalue": "could not broadcast input array from shape (512,512,4) into shape (256,256,4)",
     "output_type": "error",
     "traceback": [
      "\u001b[0;31m---------------------------------------------------------------------------\u001b[0m",
      "\u001b[0;31mValueError\u001b[0m                                Traceback (most recent call last)",
      "Cell \u001b[0;32mIn[72], line 39\u001b[0m\n\u001b[1;32m     10\u001b[0m gplt\u001b[38;5;241m.\u001b[39mchoropleth(fullData_new, \n\u001b[1;32m     11\u001b[0m     hue\u001b[38;5;241m=\u001b[39m\u001b[38;5;124m'\u001b[39m\u001b[38;5;124mIndex of Relative Socio-economic Advantage and Disadvantage Decile\u001b[39m\u001b[38;5;124m'\u001b[39m,  \u001b[38;5;66;03m#\"Index of Relative Socio-economic Advantage and Disadvantage Decile\", \u001b[39;00m\n\u001b[1;32m     12\u001b[0m     linewidth\u001b[38;5;241m=\u001b[39m\u001b[38;5;241m0.1\u001b[39m,\n\u001b[0;32m   (...)\u001b[0m\n\u001b[1;32m     19\u001b[0m \u001b[38;5;66;03m#     legend_kwargs={'title': 'Socio-economic Advantage and Disadvantage Decile'} \u001b[39;00m\n\u001b[1;32m     20\u001b[0m )\n\u001b[1;32m     22\u001b[0m \u001b[38;5;66;03m# scheme2 = mc.Quantiles(fullData[\"Index of Relative Socio-economic Advantage and Disadvantage Decile\"], k=10)\u001b[39;00m\n\u001b[1;32m     23\u001b[0m \u001b[38;5;66;03m# Create the second choropleth layer with a different color map and legend\u001b[39;00m\n\u001b[1;32m     24\u001b[0m \u001b[38;5;66;03m# gplt.choropleth(\u001b[39;00m\n\u001b[0;32m   (...)\u001b[0m\n\u001b[1;32m     37\u001b[0m \u001b[38;5;66;03m# cmap='inferno_r',\u001b[39;00m\n\u001b[1;32m     38\u001b[0m \u001b[38;5;66;03m# Add a background map of Victoria using contextily\u001b[39;00m\n\u001b[0;32m---> 39\u001b[0m ctx\u001b[38;5;241m.\u001b[39madd_basemap(ax, crs\u001b[38;5;241m=\u001b[39mfullData\u001b[38;5;241m.\u001b[39mcrs\u001b[38;5;241m.\u001b[39mto_string(), source\u001b[38;5;241m=\u001b[39mctx\u001b[38;5;241m.\u001b[39mproviders\u001b[38;5;241m.\u001b[39mStamen\u001b[38;5;241m.\u001b[39mTonerLite)\u001b[38;5;66;03m#, zoom = 12\u001b[39;00m\n\u001b[1;32m     41\u001b[0m \u001b[38;5;66;03m# Victoria mental illness issue and social-eco & geographic distribution\u001b[39;00m\n\u001b[1;32m     42\u001b[0m ax\u001b[38;5;241m.\u001b[39mset_title(\u001b[38;5;124m\"\u001b[39m\u001b[38;5;124mSocial-eco factors in Victoria suburbs\u001b[39m\u001b[38;5;124m\"\u001b[39m, fontsize\u001b[38;5;241m=\u001b[39m\u001b[38;5;241m20\u001b[39m);\n",
      "File \u001b[0;32m~/anaconda3/lib/python3.11/site-packages/contextily/plotting.py:129\u001b[0m, in \u001b[0;36madd_basemap\u001b[0;34m(ax, zoom, source, interpolation, attribution, attribution_size, reset_extent, crs, resampling, **extra_imshow_args)\u001b[0m\n\u001b[1;32m    125\u001b[0m     left, right, bottom, top \u001b[38;5;241m=\u001b[39m _reproj_bb(\n\u001b[1;32m    126\u001b[0m         left, right, bottom, top, crs, {\u001b[38;5;124m\"\u001b[39m\u001b[38;5;124minit\u001b[39m\u001b[38;5;124m\"\u001b[39m: \u001b[38;5;124m\"\u001b[39m\u001b[38;5;124mepsg:3857\u001b[39m\u001b[38;5;124m\"\u001b[39m}\n\u001b[1;32m    127\u001b[0m     )\n\u001b[1;32m    128\u001b[0m \u001b[38;5;66;03m# Download image\u001b[39;00m\n\u001b[0;32m--> 129\u001b[0m image, extent \u001b[38;5;241m=\u001b[39m bounds2img(\n\u001b[1;32m    130\u001b[0m     left, bottom, right, top, zoom\u001b[38;5;241m=\u001b[39mzoom, source\u001b[38;5;241m=\u001b[39msource, ll\u001b[38;5;241m=\u001b[39m\u001b[38;5;28;01mFalse\u001b[39;00m\n\u001b[1;32m    131\u001b[0m )\n\u001b[1;32m    132\u001b[0m \u001b[38;5;66;03m# Warping\u001b[39;00m\n\u001b[1;32m    133\u001b[0m \u001b[38;5;28;01mif\u001b[39;00m crs \u001b[38;5;129;01mis\u001b[39;00m \u001b[38;5;129;01mnot\u001b[39;00m \u001b[38;5;28;01mNone\u001b[39;00m:\n",
      "File \u001b[0;32m~/anaconda3/lib/python3.11/site-packages/contextily/tile.py:225\u001b[0m, in \u001b[0;36mbounds2img\u001b[0;34m(w, s, e, n, zoom, source, ll, wait, max_retries)\u001b[0m\n\u001b[1;32m    223\u001b[0m     tiles\u001b[38;5;241m.\u001b[39mappend(t)\n\u001b[1;32m    224\u001b[0m     arrays\u001b[38;5;241m.\u001b[39mappend(image)\n\u001b[0;32m--> 225\u001b[0m merged, extent \u001b[38;5;241m=\u001b[39m _merge_tiles(tiles, arrays)\n\u001b[1;32m    226\u001b[0m \u001b[38;5;66;03m# lon/lat extent --> Spheric Mercator\u001b[39;00m\n\u001b[1;32m    227\u001b[0m west, south, east, north \u001b[38;5;241m=\u001b[39m extent\n",
      "File \u001b[0;32m~/anaconda3/lib/python3.11/site-packages/contextily/tile.py:628\u001b[0m, in \u001b[0;36m_merge_tiles\u001b[0;34m(tiles, arrays)\u001b[0m\n\u001b[1;32m    626\u001b[0m \u001b[38;5;28;01mfor\u001b[39;00m ind, arr \u001b[38;5;129;01min\u001b[39;00m \u001b[38;5;28mzip\u001b[39m(indices, arrays):\n\u001b[1;32m    627\u001b[0m     x, y \u001b[38;5;241m=\u001b[39m ind\n\u001b[0;32m--> 628\u001b[0m     img[y \u001b[38;5;241m*\u001b[39m h : (y \u001b[38;5;241m+\u001b[39m \u001b[38;5;241m1\u001b[39m) \u001b[38;5;241m*\u001b[39m h, x \u001b[38;5;241m*\u001b[39m w : (x \u001b[38;5;241m+\u001b[39m \u001b[38;5;241m1\u001b[39m) \u001b[38;5;241m*\u001b[39m w, :] \u001b[38;5;241m=\u001b[39m arr\n\u001b[1;32m    630\u001b[0m bounds \u001b[38;5;241m=\u001b[39m np\u001b[38;5;241m.\u001b[39marray([mt\u001b[38;5;241m.\u001b[39mbounds(t) \u001b[38;5;28;01mfor\u001b[39;00m t \u001b[38;5;129;01min\u001b[39;00m tiles])\n\u001b[1;32m    631\u001b[0m west, south, east, north \u001b[38;5;241m=\u001b[39m (\n\u001b[1;32m    632\u001b[0m     \u001b[38;5;28mmin\u001b[39m(bounds[:, \u001b[38;5;241m0\u001b[39m]),\n\u001b[1;32m    633\u001b[0m     \u001b[38;5;28mmin\u001b[39m(bounds[:, \u001b[38;5;241m1\u001b[39m]),\n\u001b[1;32m    634\u001b[0m     \u001b[38;5;28mmax\u001b[39m(bounds[:, \u001b[38;5;241m2\u001b[39m]),\n\u001b[1;32m    635\u001b[0m     \u001b[38;5;28mmax\u001b[39m(bounds[:, \u001b[38;5;241m3\u001b[39m]),\n\u001b[1;32m    636\u001b[0m )\n",
      "\u001b[0;31mValueError\u001b[0m: could not broadcast input array from shape (512,512,4) into shape (256,256,4)"
     ]
    },
    {
     "data": {
      "image/png": "[encoded data removed]",
      "text/plain": [
       "<Figure size 1600x1200 with 1 Axes>"
      ]
     },
     "metadata": {},
     "output_type": "display_data"
    }
   ],
   "source": [
    "# Initialize the figure\n",
    "import matplotlib.pyplot as plt\n",
    "import mapclassify as mc\n",
    "import contextily as ctx\n",
    "\n",
    "fig, ax = plt.subplots(1, 1, figsize=(16, 12))\n",
    "# scheme1 = mc.Quantiles(fullData[\"Index of Relative Socio-economic Advantage and Disadvantage Decile\"], k=10)\n",
    "\n",
    "# Create the first choropleth layer with a color map and legend\n",
    "gplt.choropleth(fullData_new, \n",
    "    hue='Index of Relative Socio-economic Advantage and Disadvantage Decile',  #\"Index of Relative Socio-economic Advantage and Disadvantage Decile\", \n",
    "    linewidth=0.1,\n",
    "    scheme= \"FisherJenks\", #scheme1, \n",
    "    cmap= 'PuBu', #yellow to green colour palette with lighter shades\n",
    "    edgecolor='black',\n",
    "    alpha=0.5,\n",
    "    ax=ax,\n",
    "    legend=True\n",
    "#     legend_kwargs={'title': 'Socio-economic Advantage and Disadvantage Decile'} \n",
    ")\n",
    "\n",
    "# scheme2 = mc.Quantiles(fullData[\"Index of Relative Socio-economic Advantage and Disadvantage Decile\"], k=10)\n",
    "# Create the second choropleth layer with a different color map and legend\n",
    "# gplt.choropleth(\n",
    "#     fullData,\n",
    "#     hue=\"Index of Economic Resources Decile\",\n",
    "#     linewidth=0.1,\n",
    "#     #scheme='Index of Economic Resources Decile', #scheme2,\n",
    "#     cmap='YlOrRd',  # yellow to red colour palette\n",
    "#     edgecolor='black',\n",
    "#     alpha=0.5,\n",
    "#     ax=ax,\n",
    "#     legend=True\n",
    "# #     legend_kwargs={'title': 'Economic Resources Decile'} \n",
    "# )\n",
    "\n",
    "# cmap='inferno_r',\n",
    "# Add a background map of Victoria using contextily\n",
    "ctx.add_basemap(ax, crs=fullData.crs.to_string(), source=ctx.providers.Stamen.TonerLite)#, zoom = 12\n",
    "\n",
    "# Victoria mental illness issue and social-eco & geographic distribution\n",
    "ax.set_title(\"Social-eco factors in Victoria suburbs\", fontsize=20);\n",
    "# ax.legend()\n",
    "\n",
    "# Show the plot\n",
    "plt.show()"
   ]
  },
  {
   "cell_type": "markdown",
   "metadata": {},
   "source": [
    "## Choropleth map - Anxiety value"
   ]
  },
  {
   "cell_type": "code",
   "execution_count": null,
   "metadata": {},
   "outputs": [],
   "source": [
    "If you want to simplfy the data, can do below 2 chunks"
   ]
  },
  {
   "cell_type": "raw",
   "metadata": {},
   "source": [
    "# Exxtract df to reduce compplexity\n",
    "df = merged_anxiety[['Suburb', 'VALUE']]\n",
    "df.head()"
   ]
  },
  {
   "cell_type": "raw",
   "metadata": {},
   "source": [
    "# Merge with geodata\n",
    "anxietyData = geodata.merge(df, how='left', left_on=['LOC_NAME'], right_on=['Suburb'])\n",
    "anxietyData.shape, anxietyData.columns"
   ]
  },
  {
   "cell_type": "code",
   "execution_count": null,
   "metadata": {},
   "outputs": [],
   "source": [
    "fig, ax = plt.subplots(1, 1, figsize=(16, 12))\n",
    "# scheme1 = mc.Quantiles(fullData[\"Index of Relative Socio-economic Advantage and Disadvantage Decile\"], k=10)\n",
    "\n",
    "# Create the first choropleth layer with a color map and legend\n",
    "gplt.choropleth(fullData_new, \n",
    "    hue='VALUE',  #\"Index of Relative Socio-economic Advantage and Disadvantage Decile\", \n",
    "    linewidth=0.1,\n",
    "    scheme= \"FisherJenks\", \n",
    "    cmap= 'YlGn', #yellow to green colour palette with lighter shades\n",
    "    edgecolor='black',\n",
    "    alpha=0.5,\n",
    "    ax=ax,\n",
    "    legend=True,  # Add a legend for Variable1\n",
    "    legend_kwargs={'title': 'severity of anxiety index'} \n",
    ")\n",
    "\n",
    "\n",
    "# cmap='inferno_r',\n",
    "# Add a background map of Victoria using contextily\n",
    "ctx.add_basemap(ax, crs=fullData.crs.to_string(), source=ctx.providers.Stamen.TonerLite)\n",
    "\n",
    "ax.set_title(\"Severity of anxiety in Victoria suburbs\", fontsize=20);\n",
    "\n",
    "# Show the plot\n",
    "plt.show()"
   ]
  },
  {
   "cell_type": "raw",
   "metadata": {},
   "source": [
    "severity of anxiety vary by gender, income(healthcare) and region"
   ]
  },
  {
   "cell_type": "markdown",
   "metadata": {},
   "source": [
    "A easy map"
   ]
  },
  {
   "cell_type": "code",
   "execution_count": 63,
   "metadata": {
    "collapsed": true
   },
   "outputs": [
    {
     "ename": "KeyboardInterrupt",
     "evalue": "",
     "output_type": "error",
     "traceback": [
      "\u001b[0;31m---------------------------------------------------------------------------\u001b[0m",
      "\u001b[0;31mKeyboardInterrupt\u001b[0m                         Traceback (most recent call last)",
      "Cell \u001b[0;32mIn[63], line 12\u001b[0m\n\u001b[1;32m      9\u001b[0m gdf\u001b[38;5;241m.\u001b[39mplot(column\u001b[38;5;241m=\u001b[39m\u001b[38;5;124m'\u001b[39m\u001b[38;5;124mVALUE\u001b[39m\u001b[38;5;124m'\u001b[39m, cmap\u001b[38;5;241m=\u001b[39m\u001b[38;5;124m'\u001b[39m\u001b[38;5;124mYlOrRd\u001b[39m\u001b[38;5;124m'\u001b[39m, linewidth\u001b[38;5;241m=\u001b[39m\u001b[38;5;241m0.1\u001b[39m, scheme\u001b[38;5;241m=\u001b[39m\u001b[38;5;124m\"\u001b[39m\u001b[38;5;124mFisherJenks\u001b[39m\u001b[38;5;124m\"\u001b[39m, k\u001b[38;5;241m=\u001b[39m\u001b[38;5;241m5\u001b[39m, ax\u001b[38;5;241m=\u001b[39max, legend\u001b[38;5;241m=\u001b[39m\u001b[38;5;28;01mTrue\u001b[39;00m)\n\u001b[1;32m     11\u001b[0m \u001b[38;5;66;03m# Add a map background using contextily\u001b[39;00m\n\u001b[0;32m---> 12\u001b[0m ctx\u001b[38;5;241m.\u001b[39madd_basemap(ax, source\u001b[38;5;241m=\u001b[39mctx\u001b[38;5;241m.\u001b[39mproviders\u001b[38;5;241m.\u001b[39mStamen\u001b[38;5;241m.\u001b[39mTonerLite, zoom\u001b[38;5;241m=\u001b[39m\u001b[38;5;241m12\u001b[39m)\n\u001b[1;32m     14\u001b[0m \u001b[38;5;66;03m# Set the plot title\u001b[39;00m\n\u001b[1;32m     15\u001b[0m ax\u001b[38;5;241m.\u001b[39mset_title(\u001b[38;5;124m\"\u001b[39m\u001b[38;5;124mSeverity of Anxiety by Region\u001b[39m\u001b[38;5;124m\"\u001b[39m, fontsize\u001b[38;5;241m=\u001b[39m\u001b[38;5;241m16\u001b[39m)\n",
      "File \u001b[0;32m~/anaconda3/lib/python3.11/site-packages/contextily/plotting.py:129\u001b[0m, in \u001b[0;36madd_basemap\u001b[0;34m(ax, zoom, source, interpolation, attribution, attribution_size, reset_extent, crs, resampling, **extra_imshow_args)\u001b[0m\n\u001b[1;32m    125\u001b[0m     left, right, bottom, top \u001b[38;5;241m=\u001b[39m _reproj_bb(\n\u001b[1;32m    126\u001b[0m         left, right, bottom, top, crs, {\u001b[38;5;124m\"\u001b[39m\u001b[38;5;124minit\u001b[39m\u001b[38;5;124m\"\u001b[39m: \u001b[38;5;124m\"\u001b[39m\u001b[38;5;124mepsg:3857\u001b[39m\u001b[38;5;124m\"\u001b[39m}\n\u001b[1;32m    127\u001b[0m     )\n\u001b[1;32m    128\u001b[0m \u001b[38;5;66;03m# Download image\u001b[39;00m\n\u001b[0;32m--> 129\u001b[0m image, extent \u001b[38;5;241m=\u001b[39m bounds2img(\n\u001b[1;32m    130\u001b[0m     left, bottom, right, top, zoom\u001b[38;5;241m=\u001b[39mzoom, source\u001b[38;5;241m=\u001b[39msource, ll\u001b[38;5;241m=\u001b[39m\u001b[38;5;28;01mFalse\u001b[39;00m\n\u001b[1;32m    131\u001b[0m )\n\u001b[1;32m    132\u001b[0m \u001b[38;5;66;03m# Warping\u001b[39;00m\n\u001b[1;32m    133\u001b[0m \u001b[38;5;28;01mif\u001b[39;00m crs \u001b[38;5;129;01mis\u001b[39;00m \u001b[38;5;129;01mnot\u001b[39;00m \u001b[38;5;28;01mNone\u001b[39;00m:\n",
      "File \u001b[0;32m~/anaconda3/lib/python3.11/site-packages/contextily/tile.py:222\u001b[0m, in \u001b[0;36mbounds2img\u001b[0;34m(w, s, e, n, zoom, source, ll, wait, max_retries)\u001b[0m\n\u001b[1;32m    220\u001b[0m x, y, z \u001b[38;5;241m=\u001b[39m t\u001b[38;5;241m.\u001b[39mx, t\u001b[38;5;241m.\u001b[39my, t\u001b[38;5;241m.\u001b[39mz\n\u001b[1;32m    221\u001b[0m tile_url \u001b[38;5;241m=\u001b[39m provider\u001b[38;5;241m.\u001b[39mbuild_url(x\u001b[38;5;241m=\u001b[39mx, y\u001b[38;5;241m=\u001b[39my, z\u001b[38;5;241m=\u001b[39mz)\n\u001b[0;32m--> 222\u001b[0m image \u001b[38;5;241m=\u001b[39m _fetch_tile(tile_url, wait, max_retries)\n\u001b[1;32m    223\u001b[0m tiles\u001b[38;5;241m.\u001b[39mappend(t)\n\u001b[1;32m    224\u001b[0m arrays\u001b[38;5;241m.\u001b[39mappend(image)\n",
      "File \u001b[0;32m~/anaconda3/lib/python3.11/site-packages/joblib/memory.py:594\u001b[0m, in \u001b[0;36mMemorizedFunc.__call__\u001b[0;34m(self, *args, **kwargs)\u001b[0m\n\u001b[1;32m    593\u001b[0m \u001b[38;5;28;01mdef\u001b[39;00m \u001b[38;5;21m__call__\u001b[39m(\u001b[38;5;28mself\u001b[39m, \u001b[38;5;241m*\u001b[39margs, \u001b[38;5;241m*\u001b[39m\u001b[38;5;241m*\u001b[39mkwargs):\n\u001b[0;32m--> 594\u001b[0m     \u001b[38;5;28;01mreturn\u001b[39;00m \u001b[38;5;28mself\u001b[39m\u001b[38;5;241m.\u001b[39m_cached_call(args, kwargs)[\u001b[38;5;241m0\u001b[39m]\n",
      "File \u001b[0;32m~/anaconda3/lib/python3.11/site-packages/joblib/memory.py:537\u001b[0m, in \u001b[0;36mMemorizedFunc._cached_call\u001b[0;34m(self, args, kwargs, shelving)\u001b[0m\n\u001b[1;32m    534\u001b[0m         must_call \u001b[38;5;241m=\u001b[39m \u001b[38;5;28;01mTrue\u001b[39;00m\n\u001b[1;32m    536\u001b[0m \u001b[38;5;28;01mif\u001b[39;00m must_call:\n\u001b[0;32m--> 537\u001b[0m     out, metadata \u001b[38;5;241m=\u001b[39m \u001b[38;5;28mself\u001b[39m\u001b[38;5;241m.\u001b[39mcall(\u001b[38;5;241m*\u001b[39margs, \u001b[38;5;241m*\u001b[39m\u001b[38;5;241m*\u001b[39mkwargs)\n\u001b[1;32m    538\u001b[0m     \u001b[38;5;28;01mif\u001b[39;00m \u001b[38;5;28mself\u001b[39m\u001b[38;5;241m.\u001b[39mmmap_mode \u001b[38;5;129;01mis\u001b[39;00m \u001b[38;5;129;01mnot\u001b[39;00m \u001b[38;5;28;01mNone\u001b[39;00m:\n\u001b[1;32m    539\u001b[0m         \u001b[38;5;66;03m# Memmap the output at the first call to be consistent with\u001b[39;00m\n\u001b[1;32m    540\u001b[0m         \u001b[38;5;66;03m# later calls\u001b[39;00m\n\u001b[1;32m    541\u001b[0m         \u001b[38;5;28;01mif\u001b[39;00m \u001b[38;5;28mself\u001b[39m\u001b[38;5;241m.\u001b[39m_verbose:\n",
      "File \u001b[0;32m~/anaconda3/lib/python3.11/site-packages/joblib/memory.py:779\u001b[0m, in \u001b[0;36mMemorizedFunc.call\u001b[0;34m(self, *args, **kwargs)\u001b[0m\n\u001b[1;32m    777\u001b[0m \u001b[38;5;28;01mif\u001b[39;00m \u001b[38;5;28mself\u001b[39m\u001b[38;5;241m.\u001b[39m_verbose \u001b[38;5;241m>\u001b[39m \u001b[38;5;241m0\u001b[39m:\n\u001b[1;32m    778\u001b[0m     \u001b[38;5;28mprint\u001b[39m(format_call(\u001b[38;5;28mself\u001b[39m\u001b[38;5;241m.\u001b[39mfunc, args, kwargs))\n\u001b[0;32m--> 779\u001b[0m output \u001b[38;5;241m=\u001b[39m \u001b[38;5;28mself\u001b[39m\u001b[38;5;241m.\u001b[39mfunc(\u001b[38;5;241m*\u001b[39margs, \u001b[38;5;241m*\u001b[39m\u001b[38;5;241m*\u001b[39mkwargs)\n\u001b[1;32m    780\u001b[0m \u001b[38;5;28mself\u001b[39m\u001b[38;5;241m.\u001b[39mstore_backend\u001b[38;5;241m.\u001b[39mdump_item(\n\u001b[1;32m    781\u001b[0m     [func_id, args_id], output, verbose\u001b[38;5;241m=\u001b[39m\u001b[38;5;28mself\u001b[39m\u001b[38;5;241m.\u001b[39m_verbose)\n\u001b[1;32m    783\u001b[0m duration \u001b[38;5;241m=\u001b[39m time\u001b[38;5;241m.\u001b[39mtime() \u001b[38;5;241m-\u001b[39m start_time\n",
      "File \u001b[0;32m~/anaconda3/lib/python3.11/site-packages/contextily/tile.py:252\u001b[0m, in \u001b[0;36m_fetch_tile\u001b[0;34m(tile_url, wait, max_retries)\u001b[0m\n\u001b[1;32m    250\u001b[0m \u001b[38;5;129m@memory\u001b[39m\u001b[38;5;241m.\u001b[39mcache\n\u001b[1;32m    251\u001b[0m \u001b[38;5;28;01mdef\u001b[39;00m \u001b[38;5;21m_fetch_tile\u001b[39m(tile_url, wait, max_retries):\n\u001b[0;32m--> 252\u001b[0m     request \u001b[38;5;241m=\u001b[39m _retryer(tile_url, wait, max_retries)\n\u001b[1;32m    253\u001b[0m     \u001b[38;5;28;01mwith\u001b[39;00m io\u001b[38;5;241m.\u001b[39mBytesIO(request\u001b[38;5;241m.\u001b[39mcontent) \u001b[38;5;28;01mas\u001b[39;00m image_stream:\n\u001b[1;32m    254\u001b[0m         image \u001b[38;5;241m=\u001b[39m Image\u001b[38;5;241m.\u001b[39mopen(image_stream)\u001b[38;5;241m.\u001b[39mconvert(\u001b[38;5;124m\"\u001b[39m\u001b[38;5;124mRGBA\u001b[39m\u001b[38;5;124m\"\u001b[39m)\n",
      "File \u001b[0;32m~/anaconda3/lib/python3.11/site-packages/contextily/tile.py:395\u001b[0m, in \u001b[0;36m_retryer\u001b[0;34m(tile_url, wait, max_retries)\u001b[0m\n\u001b[1;32m    375\u001b[0m \u001b[38;5;250m\u001b[39m\u001b[38;5;124;03m\"\"\"\u001b[39;00m\n\u001b[1;32m    376\u001b[0m \u001b[38;5;124;03mRetry a url many times in attempt to get a tile\u001b[39;00m\n\u001b[1;32m    377\u001b[0m \n\u001b[0;32m   (...)\u001b[0m\n\u001b[1;32m    392\u001b[0m \u001b[38;5;124;03mrequest object containing the web response.\u001b[39;00m\n\u001b[1;32m    393\u001b[0m \u001b[38;5;124;03m\"\"\"\u001b[39;00m\n\u001b[1;32m    394\u001b[0m \u001b[38;5;28;01mtry\u001b[39;00m:\n\u001b[0;32m--> 395\u001b[0m     request \u001b[38;5;241m=\u001b[39m requests\u001b[38;5;241m.\u001b[39mget(tile_url, headers\u001b[38;5;241m=\u001b[39m{\u001b[38;5;124m\"\u001b[39m\u001b[38;5;124muser-agent\u001b[39m\u001b[38;5;124m\"\u001b[39m: USER_AGENT})\n\u001b[1;32m    396\u001b[0m     request\u001b[38;5;241m.\u001b[39mraise_for_status()\n\u001b[1;32m    397\u001b[0m \u001b[38;5;28;01mexcept\u001b[39;00m requests\u001b[38;5;241m.\u001b[39mHTTPError:\n",
      "File \u001b[0;32m~/anaconda3/lib/python3.11/site-packages/requests/api.py:73\u001b[0m, in \u001b[0;36mget\u001b[0;34m(url, params, **kwargs)\u001b[0m\n\u001b[1;32m     62\u001b[0m \u001b[38;5;28;01mdef\u001b[39;00m \u001b[38;5;21mget\u001b[39m(url, params\u001b[38;5;241m=\u001b[39m\u001b[38;5;28;01mNone\u001b[39;00m, \u001b[38;5;241m*\u001b[39m\u001b[38;5;241m*\u001b[39mkwargs):\n\u001b[1;32m     63\u001b[0m \u001b[38;5;250m    \u001b[39m\u001b[38;5;124mr\u001b[39m\u001b[38;5;124;03m\"\"\"Sends a GET request.\u001b[39;00m\n\u001b[1;32m     64\u001b[0m \n\u001b[1;32m     65\u001b[0m \u001b[38;5;124;03m    :param url: URL for the new :class:`Request` object.\u001b[39;00m\n\u001b[0;32m   (...)\u001b[0m\n\u001b[1;32m     70\u001b[0m \u001b[38;5;124;03m    :rtype: requests.Response\u001b[39;00m\n\u001b[1;32m     71\u001b[0m \u001b[38;5;124;03m    \"\"\"\u001b[39;00m\n\u001b[0;32m---> 73\u001b[0m     \u001b[38;5;28;01mreturn\u001b[39;00m request(\u001b[38;5;124m\"\u001b[39m\u001b[38;5;124mget\u001b[39m\u001b[38;5;124m\"\u001b[39m, url, params\u001b[38;5;241m=\u001b[39mparams, \u001b[38;5;241m*\u001b[39m\u001b[38;5;241m*\u001b[39mkwargs)\n",
      "File \u001b[0;32m~/anaconda3/lib/python3.11/site-packages/requests/api.py:59\u001b[0m, in \u001b[0;36mrequest\u001b[0;34m(method, url, **kwargs)\u001b[0m\n\u001b[1;32m     55\u001b[0m \u001b[38;5;66;03m# By using the 'with' statement we are sure the session is closed, thus we\u001b[39;00m\n\u001b[1;32m     56\u001b[0m \u001b[38;5;66;03m# avoid leaving sockets open which can trigger a ResourceWarning in some\u001b[39;00m\n\u001b[1;32m     57\u001b[0m \u001b[38;5;66;03m# cases, and look like a memory leak in others.\u001b[39;00m\n\u001b[1;32m     58\u001b[0m \u001b[38;5;28;01mwith\u001b[39;00m sessions\u001b[38;5;241m.\u001b[39mSession() \u001b[38;5;28;01mas\u001b[39;00m session:\n\u001b[0;32m---> 59\u001b[0m     \u001b[38;5;28;01mreturn\u001b[39;00m session\u001b[38;5;241m.\u001b[39mrequest(method\u001b[38;5;241m=\u001b[39mmethod, url\u001b[38;5;241m=\u001b[39murl, \u001b[38;5;241m*\u001b[39m\u001b[38;5;241m*\u001b[39mkwargs)\n",
      "File \u001b[0;32m~/anaconda3/lib/python3.11/site-packages/requests/sessions.py:587\u001b[0m, in \u001b[0;36mSession.request\u001b[0;34m(self, method, url, params, data, headers, cookies, files, auth, timeout, allow_redirects, proxies, hooks, stream, verify, cert, json)\u001b[0m\n\u001b[1;32m    582\u001b[0m send_kwargs \u001b[38;5;241m=\u001b[39m {\n\u001b[1;32m    583\u001b[0m     \u001b[38;5;124m\"\u001b[39m\u001b[38;5;124mtimeout\u001b[39m\u001b[38;5;124m\"\u001b[39m: timeout,\n\u001b[1;32m    584\u001b[0m     \u001b[38;5;124m\"\u001b[39m\u001b[38;5;124mallow_redirects\u001b[39m\u001b[38;5;124m\"\u001b[39m: allow_redirects,\n\u001b[1;32m    585\u001b[0m }\n\u001b[1;32m    586\u001b[0m send_kwargs\u001b[38;5;241m.\u001b[39mupdate(settings)\n\u001b[0;32m--> 587\u001b[0m resp \u001b[38;5;241m=\u001b[39m \u001b[38;5;28mself\u001b[39m\u001b[38;5;241m.\u001b[39msend(prep, \u001b[38;5;241m*\u001b[39m\u001b[38;5;241m*\u001b[39msend_kwargs)\n\u001b[1;32m    589\u001b[0m \u001b[38;5;28;01mreturn\u001b[39;00m resp\n",
      "File \u001b[0;32m~/anaconda3/lib/python3.11/site-packages/requests/sessions.py:701\u001b[0m, in \u001b[0;36mSession.send\u001b[0;34m(self, request, **kwargs)\u001b[0m\n\u001b[1;32m    698\u001b[0m start \u001b[38;5;241m=\u001b[39m preferred_clock()\n\u001b[1;32m    700\u001b[0m \u001b[38;5;66;03m# Send the request\u001b[39;00m\n\u001b[0;32m--> 701\u001b[0m r \u001b[38;5;241m=\u001b[39m adapter\u001b[38;5;241m.\u001b[39msend(request, \u001b[38;5;241m*\u001b[39m\u001b[38;5;241m*\u001b[39mkwargs)\n\u001b[1;32m    703\u001b[0m \u001b[38;5;66;03m# Total elapsed time of the request (approximately)\u001b[39;00m\n\u001b[1;32m    704\u001b[0m elapsed \u001b[38;5;241m=\u001b[39m preferred_clock() \u001b[38;5;241m-\u001b[39m start\n",
      "File \u001b[0;32m~/anaconda3/lib/python3.11/site-packages/requests/adapters.py:487\u001b[0m, in \u001b[0;36mHTTPAdapter.send\u001b[0;34m(self, request, stream, timeout, verify, cert, proxies)\u001b[0m\n\u001b[1;32m    484\u001b[0m     timeout \u001b[38;5;241m=\u001b[39m TimeoutSauce(connect\u001b[38;5;241m=\u001b[39mtimeout, read\u001b[38;5;241m=\u001b[39mtimeout)\n\u001b[1;32m    486\u001b[0m \u001b[38;5;28;01mtry\u001b[39;00m:\n\u001b[0;32m--> 487\u001b[0m     resp \u001b[38;5;241m=\u001b[39m conn\u001b[38;5;241m.\u001b[39murlopen(\n\u001b[1;32m    488\u001b[0m         method\u001b[38;5;241m=\u001b[39mrequest\u001b[38;5;241m.\u001b[39mmethod,\n\u001b[1;32m    489\u001b[0m         url\u001b[38;5;241m=\u001b[39murl,\n\u001b[1;32m    490\u001b[0m         body\u001b[38;5;241m=\u001b[39mrequest\u001b[38;5;241m.\u001b[39mbody,\n\u001b[1;32m    491\u001b[0m         headers\u001b[38;5;241m=\u001b[39mrequest\u001b[38;5;241m.\u001b[39mheaders,\n\u001b[1;32m    492\u001b[0m         redirect\u001b[38;5;241m=\u001b[39m\u001b[38;5;28;01mFalse\u001b[39;00m,\n\u001b[1;32m    493\u001b[0m         assert_same_host\u001b[38;5;241m=\u001b[39m\u001b[38;5;28;01mFalse\u001b[39;00m,\n\u001b[1;32m    494\u001b[0m         preload_content\u001b[38;5;241m=\u001b[39m\u001b[38;5;28;01mFalse\u001b[39;00m,\n\u001b[1;32m    495\u001b[0m         decode_content\u001b[38;5;241m=\u001b[39m\u001b[38;5;28;01mFalse\u001b[39;00m,\n\u001b[1;32m    496\u001b[0m         retries\u001b[38;5;241m=\u001b[39m\u001b[38;5;28mself\u001b[39m\u001b[38;5;241m.\u001b[39mmax_retries,\n\u001b[1;32m    497\u001b[0m         timeout\u001b[38;5;241m=\u001b[39mtimeout,\n\u001b[1;32m    498\u001b[0m         chunked\u001b[38;5;241m=\u001b[39mchunked,\n\u001b[1;32m    499\u001b[0m     )\n\u001b[1;32m    501\u001b[0m \u001b[38;5;28;01mexcept\u001b[39;00m (ProtocolError, \u001b[38;5;167;01mOSError\u001b[39;00m) \u001b[38;5;28;01mas\u001b[39;00m err:\n\u001b[1;32m    502\u001b[0m     \u001b[38;5;28;01mraise\u001b[39;00m \u001b[38;5;167;01mConnectionError\u001b[39;00m(err, request\u001b[38;5;241m=\u001b[39mrequest)\n",
      "File \u001b[0;32m~/anaconda3/lib/python3.11/site-packages/urllib3/connectionpool.py:714\u001b[0m, in \u001b[0;36mHTTPConnectionPool.urlopen\u001b[0;34m(self, method, url, body, headers, retries, redirect, assert_same_host, timeout, pool_timeout, release_conn, chunked, body_pos, **response_kw)\u001b[0m\n\u001b[1;32m    711\u001b[0m     \u001b[38;5;28mself\u001b[39m\u001b[38;5;241m.\u001b[39m_prepare_proxy(conn)\n\u001b[1;32m    713\u001b[0m \u001b[38;5;66;03m# Make the request on the httplib connection object.\u001b[39;00m\n\u001b[0;32m--> 714\u001b[0m httplib_response \u001b[38;5;241m=\u001b[39m \u001b[38;5;28mself\u001b[39m\u001b[38;5;241m.\u001b[39m_make_request(\n\u001b[1;32m    715\u001b[0m     conn,\n\u001b[1;32m    716\u001b[0m     method,\n\u001b[1;32m    717\u001b[0m     url,\n\u001b[1;32m    718\u001b[0m     timeout\u001b[38;5;241m=\u001b[39mtimeout_obj,\n\u001b[1;32m    719\u001b[0m     body\u001b[38;5;241m=\u001b[39mbody,\n\u001b[1;32m    720\u001b[0m     headers\u001b[38;5;241m=\u001b[39mheaders,\n\u001b[1;32m    721\u001b[0m     chunked\u001b[38;5;241m=\u001b[39mchunked,\n\u001b[1;32m    722\u001b[0m )\n\u001b[1;32m    724\u001b[0m \u001b[38;5;66;03m# If we're going to release the connection in ``finally:``, then\u001b[39;00m\n\u001b[1;32m    725\u001b[0m \u001b[38;5;66;03m# the response doesn't need to know about the connection. Otherwise\u001b[39;00m\n\u001b[1;32m    726\u001b[0m \u001b[38;5;66;03m# it will also try to release it and we'll have a double-release\u001b[39;00m\n\u001b[1;32m    727\u001b[0m \u001b[38;5;66;03m# mess.\u001b[39;00m\n\u001b[1;32m    728\u001b[0m response_conn \u001b[38;5;241m=\u001b[39m conn \u001b[38;5;28;01mif\u001b[39;00m \u001b[38;5;129;01mnot\u001b[39;00m release_conn \u001b[38;5;28;01melse\u001b[39;00m \u001b[38;5;28;01mNone\u001b[39;00m\n",
      "File \u001b[0;32m~/anaconda3/lib/python3.11/site-packages/urllib3/connectionpool.py:403\u001b[0m, in \u001b[0;36mHTTPConnectionPool._make_request\u001b[0;34m(self, conn, method, url, timeout, chunked, **httplib_request_kw)\u001b[0m\n\u001b[1;32m    401\u001b[0m \u001b[38;5;66;03m# Trigger any extra validation we need to do.\u001b[39;00m\n\u001b[1;32m    402\u001b[0m \u001b[38;5;28;01mtry\u001b[39;00m:\n\u001b[0;32m--> 403\u001b[0m     \u001b[38;5;28mself\u001b[39m\u001b[38;5;241m.\u001b[39m_validate_conn(conn)\n\u001b[1;32m    404\u001b[0m \u001b[38;5;28;01mexcept\u001b[39;00m (SocketTimeout, BaseSSLError) \u001b[38;5;28;01mas\u001b[39;00m e:\n\u001b[1;32m    405\u001b[0m     \u001b[38;5;66;03m# Py2 raises this as a BaseSSLError, Py3 raises it as socket timeout.\u001b[39;00m\n\u001b[1;32m    406\u001b[0m     \u001b[38;5;28mself\u001b[39m\u001b[38;5;241m.\u001b[39m_raise_timeout(err\u001b[38;5;241m=\u001b[39me, url\u001b[38;5;241m=\u001b[39murl, timeout_value\u001b[38;5;241m=\u001b[39mconn\u001b[38;5;241m.\u001b[39mtimeout)\n",
      "File \u001b[0;32m~/anaconda3/lib/python3.11/site-packages/urllib3/connectionpool.py:1053\u001b[0m, in \u001b[0;36mHTTPSConnectionPool._validate_conn\u001b[0;34m(self, conn)\u001b[0m\n\u001b[1;32m   1051\u001b[0m \u001b[38;5;66;03m# Force connect early to allow us to validate the connection.\u001b[39;00m\n\u001b[1;32m   1052\u001b[0m \u001b[38;5;28;01mif\u001b[39;00m \u001b[38;5;129;01mnot\u001b[39;00m \u001b[38;5;28mgetattr\u001b[39m(conn, \u001b[38;5;124m\"\u001b[39m\u001b[38;5;124msock\u001b[39m\u001b[38;5;124m\"\u001b[39m, \u001b[38;5;28;01mNone\u001b[39;00m):  \u001b[38;5;66;03m# AppEngine might not have  `.sock`\u001b[39;00m\n\u001b[0;32m-> 1053\u001b[0m     conn\u001b[38;5;241m.\u001b[39mconnect()\n\u001b[1;32m   1055\u001b[0m \u001b[38;5;28;01mif\u001b[39;00m \u001b[38;5;129;01mnot\u001b[39;00m conn\u001b[38;5;241m.\u001b[39mis_verified:\n\u001b[1;32m   1056\u001b[0m     warnings\u001b[38;5;241m.\u001b[39mwarn(\n\u001b[1;32m   1057\u001b[0m         (\n\u001b[1;32m   1058\u001b[0m             \u001b[38;5;124m\"\u001b[39m\u001b[38;5;124mUnverified HTTPS request is being made to host \u001b[39m\u001b[38;5;124m'\u001b[39m\u001b[38;5;132;01m%s\u001b[39;00m\u001b[38;5;124m'\u001b[39m\u001b[38;5;124m. \u001b[39m\u001b[38;5;124m\"\u001b[39m\n\u001b[0;32m   (...)\u001b[0m\n\u001b[1;32m   1063\u001b[0m         InsecureRequestWarning,\n\u001b[1;32m   1064\u001b[0m     )\n",
      "File \u001b[0;32m~/anaconda3/lib/python3.11/site-packages/urllib3/connection.py:419\u001b[0m, in \u001b[0;36mHTTPSConnection.connect\u001b[0;34m(self)\u001b[0m\n\u001b[1;32m    410\u001b[0m \u001b[38;5;28;01mif\u001b[39;00m (\n\u001b[1;32m    411\u001b[0m     \u001b[38;5;129;01mnot\u001b[39;00m \u001b[38;5;28mself\u001b[39m\u001b[38;5;241m.\u001b[39mca_certs\n\u001b[1;32m    412\u001b[0m     \u001b[38;5;129;01mand\u001b[39;00m \u001b[38;5;129;01mnot\u001b[39;00m \u001b[38;5;28mself\u001b[39m\u001b[38;5;241m.\u001b[39mca_cert_dir\n\u001b[0;32m   (...)\u001b[0m\n\u001b[1;32m    415\u001b[0m     \u001b[38;5;129;01mand\u001b[39;00m \u001b[38;5;28mhasattr\u001b[39m(context, \u001b[38;5;124m\"\u001b[39m\u001b[38;5;124mload_default_certs\u001b[39m\u001b[38;5;124m\"\u001b[39m)\n\u001b[1;32m    416\u001b[0m ):\n\u001b[1;32m    417\u001b[0m     context\u001b[38;5;241m.\u001b[39mload_default_certs()\n\u001b[0;32m--> 419\u001b[0m \u001b[38;5;28mself\u001b[39m\u001b[38;5;241m.\u001b[39msock \u001b[38;5;241m=\u001b[39m ssl_wrap_socket(\n\u001b[1;32m    420\u001b[0m     sock\u001b[38;5;241m=\u001b[39mconn,\n\u001b[1;32m    421\u001b[0m     keyfile\u001b[38;5;241m=\u001b[39m\u001b[38;5;28mself\u001b[39m\u001b[38;5;241m.\u001b[39mkey_file,\n\u001b[1;32m    422\u001b[0m     certfile\u001b[38;5;241m=\u001b[39m\u001b[38;5;28mself\u001b[39m\u001b[38;5;241m.\u001b[39mcert_file,\n\u001b[1;32m    423\u001b[0m     key_password\u001b[38;5;241m=\u001b[39m\u001b[38;5;28mself\u001b[39m\u001b[38;5;241m.\u001b[39mkey_password,\n\u001b[1;32m    424\u001b[0m     ca_certs\u001b[38;5;241m=\u001b[39m\u001b[38;5;28mself\u001b[39m\u001b[38;5;241m.\u001b[39mca_certs,\n\u001b[1;32m    425\u001b[0m     ca_cert_dir\u001b[38;5;241m=\u001b[39m\u001b[38;5;28mself\u001b[39m\u001b[38;5;241m.\u001b[39mca_cert_dir,\n\u001b[1;32m    426\u001b[0m     ca_cert_data\u001b[38;5;241m=\u001b[39m\u001b[38;5;28mself\u001b[39m\u001b[38;5;241m.\u001b[39mca_cert_data,\n\u001b[1;32m    427\u001b[0m     server_hostname\u001b[38;5;241m=\u001b[39mserver_hostname,\n\u001b[1;32m    428\u001b[0m     ssl_context\u001b[38;5;241m=\u001b[39mcontext,\n\u001b[1;32m    429\u001b[0m     tls_in_tls\u001b[38;5;241m=\u001b[39mtls_in_tls,\n\u001b[1;32m    430\u001b[0m )\n\u001b[1;32m    432\u001b[0m \u001b[38;5;66;03m# If we're using all defaults and the connection\u001b[39;00m\n\u001b[1;32m    433\u001b[0m \u001b[38;5;66;03m# is TLSv1 or TLSv1.1 we throw a DeprecationWarning\u001b[39;00m\n\u001b[1;32m    434\u001b[0m \u001b[38;5;66;03m# for the host.\u001b[39;00m\n\u001b[1;32m    435\u001b[0m \u001b[38;5;28;01mif\u001b[39;00m (\n\u001b[1;32m    436\u001b[0m     default_ssl_context\n\u001b[1;32m    437\u001b[0m     \u001b[38;5;129;01mand\u001b[39;00m \u001b[38;5;28mself\u001b[39m\u001b[38;5;241m.\u001b[39mssl_version \u001b[38;5;129;01mis\u001b[39;00m \u001b[38;5;28;01mNone\u001b[39;00m\n\u001b[1;32m    438\u001b[0m     \u001b[38;5;129;01mand\u001b[39;00m \u001b[38;5;28mhasattr\u001b[39m(\u001b[38;5;28mself\u001b[39m\u001b[38;5;241m.\u001b[39msock, \u001b[38;5;124m\"\u001b[39m\u001b[38;5;124mversion\u001b[39m\u001b[38;5;124m\"\u001b[39m)\n\u001b[1;32m    439\u001b[0m     \u001b[38;5;129;01mand\u001b[39;00m \u001b[38;5;28mself\u001b[39m\u001b[38;5;241m.\u001b[39msock\u001b[38;5;241m.\u001b[39mversion() \u001b[38;5;129;01min\u001b[39;00m {\u001b[38;5;124m\"\u001b[39m\u001b[38;5;124mTLSv1\u001b[39m\u001b[38;5;124m\"\u001b[39m, \u001b[38;5;124m\"\u001b[39m\u001b[38;5;124mTLSv1.1\u001b[39m\u001b[38;5;124m\"\u001b[39m}\n\u001b[1;32m    440\u001b[0m ):\n",
      "File \u001b[0;32m~/anaconda3/lib/python3.11/site-packages/urllib3/util/ssl_.py:449\u001b[0m, in \u001b[0;36mssl_wrap_socket\u001b[0;34m(sock, keyfile, certfile, cert_reqs, ca_certs, server_hostname, ssl_version, ciphers, ssl_context, ca_cert_dir, key_password, ca_cert_data, tls_in_tls)\u001b[0m\n\u001b[1;32m    437\u001b[0m     warnings\u001b[38;5;241m.\u001b[39mwarn(\n\u001b[1;32m    438\u001b[0m         \u001b[38;5;124m\"\u001b[39m\u001b[38;5;124mAn HTTPS request has been made, but the SNI (Server Name \u001b[39m\u001b[38;5;124m\"\u001b[39m\n\u001b[1;32m    439\u001b[0m         \u001b[38;5;124m\"\u001b[39m\u001b[38;5;124mIndication) extension to TLS is not available on this platform. \u001b[39m\u001b[38;5;124m\"\u001b[39m\n\u001b[0;32m   (...)\u001b[0m\n\u001b[1;32m    445\u001b[0m         SNIMissingWarning,\n\u001b[1;32m    446\u001b[0m     )\n\u001b[1;32m    448\u001b[0m \u001b[38;5;28;01mif\u001b[39;00m send_sni:\n\u001b[0;32m--> 449\u001b[0m     ssl_sock \u001b[38;5;241m=\u001b[39m _ssl_wrap_socket_impl(\n\u001b[1;32m    450\u001b[0m         sock, context, tls_in_tls, server_hostname\u001b[38;5;241m=\u001b[39mserver_hostname\n\u001b[1;32m    451\u001b[0m     )\n\u001b[1;32m    452\u001b[0m \u001b[38;5;28;01melse\u001b[39;00m:\n\u001b[1;32m    453\u001b[0m     ssl_sock \u001b[38;5;241m=\u001b[39m _ssl_wrap_socket_impl(sock, context, tls_in_tls)\n",
      "File \u001b[0;32m~/anaconda3/lib/python3.11/site-packages/urllib3/util/ssl_.py:493\u001b[0m, in \u001b[0;36m_ssl_wrap_socket_impl\u001b[0;34m(sock, ssl_context, tls_in_tls, server_hostname)\u001b[0m\n\u001b[1;32m    490\u001b[0m     \u001b[38;5;28;01mreturn\u001b[39;00m SSLTransport(sock, ssl_context, server_hostname)\n\u001b[1;32m    492\u001b[0m \u001b[38;5;28;01mif\u001b[39;00m server_hostname:\n\u001b[0;32m--> 493\u001b[0m     \u001b[38;5;28;01mreturn\u001b[39;00m ssl_context\u001b[38;5;241m.\u001b[39mwrap_socket(sock, server_hostname\u001b[38;5;241m=\u001b[39mserver_hostname)\n\u001b[1;32m    494\u001b[0m \u001b[38;5;28;01melse\u001b[39;00m:\n\u001b[1;32m    495\u001b[0m     \u001b[38;5;28;01mreturn\u001b[39;00m ssl_context\u001b[38;5;241m.\u001b[39mwrap_socket(sock)\n",
      "File \u001b[0;32m~/anaconda3/lib/python3.11/ssl.py:517\u001b[0m, in \u001b[0;36mSSLContext.wrap_socket\u001b[0;34m(self, sock, server_side, do_handshake_on_connect, suppress_ragged_eofs, server_hostname, session)\u001b[0m\n\u001b[1;32m    511\u001b[0m \u001b[38;5;28;01mdef\u001b[39;00m \u001b[38;5;21mwrap_socket\u001b[39m(\u001b[38;5;28mself\u001b[39m, sock, server_side\u001b[38;5;241m=\u001b[39m\u001b[38;5;28;01mFalse\u001b[39;00m,\n\u001b[1;32m    512\u001b[0m                 do_handshake_on_connect\u001b[38;5;241m=\u001b[39m\u001b[38;5;28;01mTrue\u001b[39;00m,\n\u001b[1;32m    513\u001b[0m                 suppress_ragged_eofs\u001b[38;5;241m=\u001b[39m\u001b[38;5;28;01mTrue\u001b[39;00m,\n\u001b[1;32m    514\u001b[0m                 server_hostname\u001b[38;5;241m=\u001b[39m\u001b[38;5;28;01mNone\u001b[39;00m, session\u001b[38;5;241m=\u001b[39m\u001b[38;5;28;01mNone\u001b[39;00m):\n\u001b[1;32m    515\u001b[0m     \u001b[38;5;66;03m# SSLSocket class handles server_hostname encoding before it calls\u001b[39;00m\n\u001b[1;32m    516\u001b[0m     \u001b[38;5;66;03m# ctx._wrap_socket()\u001b[39;00m\n\u001b[0;32m--> 517\u001b[0m     \u001b[38;5;28;01mreturn\u001b[39;00m \u001b[38;5;28mself\u001b[39m\u001b[38;5;241m.\u001b[39msslsocket_class\u001b[38;5;241m.\u001b[39m_create(\n\u001b[1;32m    518\u001b[0m         sock\u001b[38;5;241m=\u001b[39msock,\n\u001b[1;32m    519\u001b[0m         server_side\u001b[38;5;241m=\u001b[39mserver_side,\n\u001b[1;32m    520\u001b[0m         do_handshake_on_connect\u001b[38;5;241m=\u001b[39mdo_handshake_on_connect,\n\u001b[1;32m    521\u001b[0m         suppress_ragged_eofs\u001b[38;5;241m=\u001b[39msuppress_ragged_eofs,\n\u001b[1;32m    522\u001b[0m         server_hostname\u001b[38;5;241m=\u001b[39mserver_hostname,\n\u001b[1;32m    523\u001b[0m         context\u001b[38;5;241m=\u001b[39m\u001b[38;5;28mself\u001b[39m,\n\u001b[1;32m    524\u001b[0m         session\u001b[38;5;241m=\u001b[39msession\n\u001b[1;32m    525\u001b[0m     )\n",
      "File \u001b[0;32m~/anaconda3/lib/python3.11/ssl.py:1075\u001b[0m, in \u001b[0;36mSSLSocket._create\u001b[0;34m(cls, sock, server_side, do_handshake_on_connect, suppress_ragged_eofs, server_hostname, context, session)\u001b[0m\n\u001b[1;32m   1072\u001b[0m         \u001b[38;5;28;01mif\u001b[39;00m timeout \u001b[38;5;241m==\u001b[39m \u001b[38;5;241m0.0\u001b[39m:\n\u001b[1;32m   1073\u001b[0m             \u001b[38;5;66;03m# non-blocking\u001b[39;00m\n\u001b[1;32m   1074\u001b[0m             \u001b[38;5;28;01mraise\u001b[39;00m \u001b[38;5;167;01mValueError\u001b[39;00m(\u001b[38;5;124m\"\u001b[39m\u001b[38;5;124mdo_handshake_on_connect should not be specified for non-blocking sockets\u001b[39m\u001b[38;5;124m\"\u001b[39m)\n\u001b[0;32m-> 1075\u001b[0m         \u001b[38;5;28mself\u001b[39m\u001b[38;5;241m.\u001b[39mdo_handshake()\n\u001b[1;32m   1076\u001b[0m \u001b[38;5;28;01mexcept\u001b[39;00m (\u001b[38;5;167;01mOSError\u001b[39;00m, \u001b[38;5;167;01mValueError\u001b[39;00m):\n\u001b[1;32m   1077\u001b[0m     \u001b[38;5;28mself\u001b[39m\u001b[38;5;241m.\u001b[39mclose()\n",
      "File \u001b[0;32m~/anaconda3/lib/python3.11/ssl.py:1346\u001b[0m, in \u001b[0;36mSSLSocket.do_handshake\u001b[0;34m(self, block)\u001b[0m\n\u001b[1;32m   1344\u001b[0m     \u001b[38;5;28;01mif\u001b[39;00m timeout \u001b[38;5;241m==\u001b[39m \u001b[38;5;241m0.0\u001b[39m \u001b[38;5;129;01mand\u001b[39;00m block:\n\u001b[1;32m   1345\u001b[0m         \u001b[38;5;28mself\u001b[39m\u001b[38;5;241m.\u001b[39msettimeout(\u001b[38;5;28;01mNone\u001b[39;00m)\n\u001b[0;32m-> 1346\u001b[0m     \u001b[38;5;28mself\u001b[39m\u001b[38;5;241m.\u001b[39m_sslobj\u001b[38;5;241m.\u001b[39mdo_handshake()\n\u001b[1;32m   1347\u001b[0m \u001b[38;5;28;01mfinally\u001b[39;00m:\n\u001b[1;32m   1348\u001b[0m     \u001b[38;5;28mself\u001b[39m\u001b[38;5;241m.\u001b[39msettimeout(timeout)\n",
      "\u001b[0;31mKeyboardInterrupt\u001b[0m: "
     ]
    },
    {
     "data": {
      "image/png": "[encoded data removed]",
      "text/plain": [
       "<Figure size 1200x800 with 1 Axes>"
      ]
     },
     "metadata": {},
     "output_type": "display_data"
    }
   ],
   "source": [
    "# Create a GeoDataFrame from your data\n",
    "gdf = gpd.GeoDataFrame(fullData, geometry='geometry')\n",
    "\n",
    "# Create a figure and axis\n",
    "fig, ax = plt.subplots(1, 1, figsize=(12, 8))\n",
    "\n",
    "# Plot the choropleth map\n",
    "gdf = gdf.to_crs(epsg=3577)  # Project to Web Mercator (EPSG:3857)\n",
    "gdf.plot(column='VALUE', cmap='YlOrRd', linewidth=0.1, scheme=\"FisherJenks\", k=5, ax=ax, legend=True)\n",
    "\n",
    "# Add a map background using contextily\n",
    "ctx.add_basemap(ax, source=ctx.providers.Stamen.TonerLite, zoom=12)#zoom=12 take too long\n",
    "\n",
    "# Set the plot title\n",
    "ax.set_title(\"Severity of Anxiety by Region\", fontsize=16)\n",
    "\n",
    "# Show the plot\n",
    "plt.show()\n"
   ]
  },
  {
   "cell_type": "code",
   "execution_count": 64,
   "metadata": {},
   "outputs": [
    {
     "name": "stderr",
     "output_type": "stream",
     "text": [
      "/Users/cindy_homefolder/anaconda3/lib/python3.11/site-packages/contextily/tile.py:528: RuntimeWarning: invalid value encountered in subtract\n",
      "  lon_length = np.subtract(*lon_range)\n",
      "/Users/cindy_homefolder/anaconda3/lib/python3.11/site-packages/contextily/tile.py:533: RuntimeWarning: divide by zero encountered in scalar divide\n",
      "  zoom_lat = np.ceil(np.log2(360 * 2.0 / lat_length))\n"
     ]
    },
    {
     "ename": "ValueError",
     "evalue": "cannot convert float NaN to integer",
     "output_type": "error",
     "traceback": [
      "\u001b[0;31m---------------------------------------------------------------------------\u001b[0m",
      "\u001b[0;31mValueError\u001b[0m                                Traceback (most recent call last)",
      "Cell \u001b[0;32mIn[64], line 15\u001b[0m\n\u001b[1;32m     12\u001b[0m gdf\u001b[38;5;241m.\u001b[39mplot(column\u001b[38;5;241m=\u001b[39m\u001b[38;5;124m'\u001b[39m\u001b[38;5;124mVALUE\u001b[39m\u001b[38;5;124m'\u001b[39m, cmap\u001b[38;5;241m=\u001b[39m\u001b[38;5;124m'\u001b[39m\u001b[38;5;124mYlOrRd\u001b[39m\u001b[38;5;124m'\u001b[39m, linewidth\u001b[38;5;241m=\u001b[39m\u001b[38;5;241m0.1\u001b[39m, scheme\u001b[38;5;241m=\u001b[39m\u001b[38;5;124m\"\u001b[39m\u001b[38;5;124mFisherJenks\u001b[39m\u001b[38;5;124m\"\u001b[39m, k\u001b[38;5;241m=\u001b[39m\u001b[38;5;241m5\u001b[39m, ax\u001b[38;5;241m=\u001b[39max, legend\u001b[38;5;241m=\u001b[39m\u001b[38;5;28;01mTrue\u001b[39;00m)\n\u001b[1;32m     14\u001b[0m \u001b[38;5;66;03m# Add a map background using contextily\u001b[39;00m\n\u001b[0;32m---> 15\u001b[0m ctx\u001b[38;5;241m.\u001b[39madd_basemap(ax, crs\u001b[38;5;241m=\u001b[39mfullData\u001b[38;5;241m.\u001b[39mcrs\u001b[38;5;241m.\u001b[39mto_string(), source\u001b[38;5;241m=\u001b[39mctx\u001b[38;5;241m.\u001b[39mproviders\u001b[38;5;241m.\u001b[39mStamen\u001b[38;5;241m.\u001b[39mTonerLite)\n\u001b[1;32m     17\u001b[0m \u001b[38;5;66;03m# # Set the axis limits to focus on Victoria\u001b[39;00m\n\u001b[1;32m     18\u001b[0m \u001b[38;5;66;03m# ax.set_xlim([min_lon, max_lon])\u001b[39;00m\n\u001b[1;32m     19\u001b[0m \u001b[38;5;66;03m# ax.set_ylim([min_lat, max_lat])\u001b[39;00m\n\u001b[1;32m     20\u001b[0m \n\u001b[1;32m     21\u001b[0m \u001b[38;5;66;03m# Set the plot title\u001b[39;00m\n\u001b[1;32m     22\u001b[0m ax\u001b[38;5;241m.\u001b[39mset_title(\u001b[38;5;124m\"\u001b[39m\u001b[38;5;124mSeverity of Anxiety by Region in Victoria, Australia\u001b[39m\u001b[38;5;124m\"\u001b[39m, fontsize\u001b[38;5;241m=\u001b[39m\u001b[38;5;241m16\u001b[39m)\n",
      "File \u001b[0;32m~/anaconda3/lib/python3.11/site-packages/contextily/plotting.py:129\u001b[0m, in \u001b[0;36madd_basemap\u001b[0;34m(ax, zoom, source, interpolation, attribution, attribution_size, reset_extent, crs, resampling, **extra_imshow_args)\u001b[0m\n\u001b[1;32m    125\u001b[0m     left, right, bottom, top \u001b[38;5;241m=\u001b[39m _reproj_bb(\n\u001b[1;32m    126\u001b[0m         left, right, bottom, top, crs, {\u001b[38;5;124m\"\u001b[39m\u001b[38;5;124minit\u001b[39m\u001b[38;5;124m\"\u001b[39m: \u001b[38;5;124m\"\u001b[39m\u001b[38;5;124mepsg:3857\u001b[39m\u001b[38;5;124m\"\u001b[39m}\n\u001b[1;32m    127\u001b[0m     )\n\u001b[1;32m    128\u001b[0m \u001b[38;5;66;03m# Download image\u001b[39;00m\n\u001b[0;32m--> 129\u001b[0m image, extent \u001b[38;5;241m=\u001b[39m bounds2img(\n\u001b[1;32m    130\u001b[0m     left, bottom, right, top, zoom\u001b[38;5;241m=\u001b[39mzoom, source\u001b[38;5;241m=\u001b[39msource, ll\u001b[38;5;241m=\u001b[39m\u001b[38;5;28;01mFalse\u001b[39;00m\n\u001b[1;32m    131\u001b[0m )\n\u001b[1;32m    132\u001b[0m \u001b[38;5;66;03m# Warping\u001b[39;00m\n\u001b[1;32m    133\u001b[0m \u001b[38;5;28;01mif\u001b[39;00m crs \u001b[38;5;129;01mis\u001b[39;00m \u001b[38;5;129;01mnot\u001b[39;00m \u001b[38;5;28;01mNone\u001b[39;00m:\n",
      "File \u001b[0;32m~/anaconda3/lib/python3.11/site-packages/contextily/tile.py:214\u001b[0m, in \u001b[0;36mbounds2img\u001b[0;34m(w, s, e, n, zoom, source, ll, wait, max_retries)\u001b[0m\n\u001b[1;32m    212\u001b[0m auto_zoom \u001b[38;5;241m=\u001b[39m zoom \u001b[38;5;241m==\u001b[39m \u001b[38;5;124m\"\u001b[39m\u001b[38;5;124mauto\u001b[39m\u001b[38;5;124m\"\u001b[39m\n\u001b[1;32m    213\u001b[0m \u001b[38;5;28;01mif\u001b[39;00m auto_zoom:\n\u001b[0;32m--> 214\u001b[0m     zoom \u001b[38;5;241m=\u001b[39m _calculate_zoom(w, s, e, n)\n\u001b[1;32m    215\u001b[0m zoom \u001b[38;5;241m=\u001b[39m _validate_zoom(zoom, provider, auto\u001b[38;5;241m=\u001b[39mauto_zoom)\n\u001b[1;32m    216\u001b[0m \u001b[38;5;66;03m# download and merge tiles\u001b[39;00m\n",
      "File \u001b[0;32m~/anaconda3/lib/python3.11/site-packages/contextily/tile.py:535\u001b[0m, in \u001b[0;36m_calculate_zoom\u001b[0;34m(w, s, e, n)\u001b[0m\n\u001b[1;32m    533\u001b[0m zoom_lat \u001b[38;5;241m=\u001b[39m np\u001b[38;5;241m.\u001b[39mceil(np\u001b[38;5;241m.\u001b[39mlog2(\u001b[38;5;241m360\u001b[39m \u001b[38;5;241m*\u001b[39m \u001b[38;5;241m2.0\u001b[39m \u001b[38;5;241m/\u001b[39m lat_length))\n\u001b[1;32m    534\u001b[0m zoom \u001b[38;5;241m=\u001b[39m np\u001b[38;5;241m.\u001b[39mmax([zoom_lon, zoom_lat])\n\u001b[0;32m--> 535\u001b[0m \u001b[38;5;28;01mreturn\u001b[39;00m \u001b[38;5;28mint\u001b[39m(zoom)\n",
      "\u001b[0;31mValueError\u001b[0m: cannot convert float NaN to integer"
     ]
    },
    {
     "data": {
      "image/png": "[encoded data removed]",
      "text/plain": [
       "<Figure size 1200x800 with 1 Axes>"
      ]
     },
     "metadata": {},
     "output_type": "display_data"
    }
   ],
   "source": [
    "# Define the bounding box for Victoria (latitude and longitude limits)\n",
    "# min_lon, max_lon, min_lat, max_lat = 140, 150, -40, -33  # Adjust these values as needed\n",
    "\n",
    "# Create a GeoDataFrame from your data\n",
    "gdf = gpd.GeoDataFrame(fullData, geometry='geometry')\n",
    "\n",
    "# Create a figure and axis\n",
    "fig, ax = plt.subplots(1, 1, figsize=(12, 8))\n",
    "\n",
    "# Plot the choropleth map\n",
    "gdf = gdf.to_crs(epsg=3577)  # Project to Australian Albers (EPSG:3577)\n",
    "gdf.plot(column='VALUE', cmap='YlOrRd', linewidth=0.1, scheme=\"FisherJenks\", k=5, ax=ax, legend=True)\n",
    "\n",
    "# Add a map background using contextily\n",
    "ctx.add_basemap(ax, crs=fullData.crs.to_string(), source=ctx.providers.Stamen.TonerLite)\n",
    "\n",
    "# # Set the axis limits to focus on Victoria\n",
    "# ax.set_xlim([min_lon, max_lon])\n",
    "# ax.set_ylim([min_lat, max_lat])\n",
    "\n",
    "# Set the plot title\n",
    "ax.set_title(\"Severity of Anxiety by Region in Victoria, Australia\", fontsize=16)\n",
    "\n",
    "# Show the plot\n",
    "plt.show()\n"
   ]
  },
  {
   "cell_type": "markdown",
   "metadata": {},
   "source": [
    "I'm running the above code to get 2 layers of data show on the map, and I get this error. Fix the code to make it work. Check your given answer. ValueError: The plot is in continuous legend mode, implying a \"matplotlib.colorbar.Colorbar\" legend object. However, \"legend_kwarg\" contains unexpected keyword arguments not supported by this legend type. Are you sure you are not accidentally passing categorical \"matplotlib.legend.Legend\" legend parameters instead?"
   ]
  }
 ],
 "metadata": {
  "kernelspec": {
   "display_name": "Python 3 (ipykernel)",
   "language": "python",
   "name": "python3"
  },
  "language_info": {
   "codemirror_mode": {
    "name": "ipython",
    "version": 3
   },
   "file_extension": ".py",
   "mimetype": "text/x-python",
   "name": "python",
   "nbconvert_exporter": "python",
   "pygments_lexer": "ipython3",
   "version": "3.11.3"
  }
 },
 "nbformat": 4,
 "nbformat_minor": 2
}
