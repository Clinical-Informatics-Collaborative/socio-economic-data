{
 "cells": [
  {
   "cell_type": "code",
   "execution_count": 1,
   "id": "e0cb4a3f",
   "metadata": {},
   "outputs": [],
   "source": [
    "import pandas as pd\n",
    "import random\n",
    "from datetime import datetime"
   ]
  },
  {
   "cell_type": "code",
   "execution_count": 2,
   "id": "9d7e128e",
   "metadata": {},
   "outputs": [],
   "source": [
    "# Number of samples\n",
    "N = 10000\n",
    "\n",
    "suburbs = [\"Carlton\", \"Carlton North\", \"Docklands\", \"East Melbourne\", \n",
    "  \"Flemington\", \"Kensington\", \"Melbourne\", \"North Melbourne\",\n",
    "  \"Parkville\", \"Port Melbourne\", \"Southbank\", \"South Wharf\", \n",
    "  \"South Yarra\", \"West Melbourne\", \"Albert Park\", \"Balaclava\",\n",
    "  \"Elwood\", \"Middle Park\", \"Ripponlea\", \"St Kilda\", \"St Kilda East\",\n",
    "  \"St Kilda West\", \"South Melbourne\", \"Abbotsford\", \"Alphington\",\n",
    "  \"Burnley\", \"Clifton Hill\", \"Collingwood\", \"Cremorne\", \"Fairfield\",\n",
    "  \"Fitzroy\", \"Fitzroy North\", \"Princes Hill\", \"Richmond\"]\n",
    "\n",
    "# Lists for different attributes\n",
    "genders = ['Male', 'Female', 'Other', 'Prefer Not to Say']\n",
    "occupations = ['Engineer', 'Teacher', 'Doctor', 'Clerk', 'Chef', 'Unemployed']\n",
    "marital_statuses = ['Single', 'Married', 'Divorced', 'Widowed']\n",
    "states = ['Victoria']\n",
    "postal_codes = ['3000', '3004', '3008', '3010', '3015', '3025']\n",
    "country = \"Australia\"\n",
    "income_ranges = ['<30,000', '30,000-60,000', '60,000-90,000', '90,000-120,000', '>120,000']\n",
    "\n",
    "weights=[0.6, 0.05, 0.15, 0.15, 0.05]"
   ]
  },
  {
   "cell_type": "code",
   "execution_count": 3,
   "id": "81638eff",
   "metadata": {},
   "outputs": [
    {
     "name": "stdout",
     "output_type": "stream",
     "text": [
      "  Patient ID     Address Line 1 Address Line 2          Suburb     State  \\\n",
      "0  PAT-91336  1623 South Street        Apt 976         Fitzroy  Victoria   \n",
      "1  PAT-57029  9421 South Street         Apt 60     Collingwood  Victoria   \n",
      "2  PAT-50375   7382 West Street        Apt 607       Fairfield  Victoria   \n",
      "3  PAT-92484  8530 South Street         Apt 37   Carlton North  Victoria   \n",
      "4  PAT-54002   461 South Street        Apt 385  East Melbourne  Victoria   \n",
      "\n",
      "  Postal Code    Country             Gender Occupation Date of Birth  \\\n",
      "0        3015  Australia              Other       Chef    20-01-1948   \n",
      "1        3015  Australia  Prefer Not to Say       Chef    21-06-1953   \n",
      "2        3025  Australia              Other       Chef    09-03-1972   \n",
      "3        3004  Australia             Female   Engineer    15-04-1946   \n",
      "4        3004  Australia  Prefer Not to Say      Clerk    19-10-1947   \n",
      "\n",
      "  Marital Status  Dependents    Income Range  \n",
      "0        Married           3  90,000-120,000  \n",
      "1       Divorced           3        >120,000  \n",
      "2        Widowed           4   30,000-60,000  \n",
      "3        Widowed           0  90,000-120,000  \n",
      "4        Widowed           2   60,000-90,000  \n"
     ]
    }
   ],
   "source": [
    "def generate_date_of_birth():\n",
    "    # Assuming patients are aged between 18 to 90\n",
    "    start_date = datetime.strptime('01-01-1933', '%d-%m-%Y')\n",
    "    end_date = datetime.strptime('01-01-2005', '%d-%m-%Y')\n",
    "    random_date = start_date + (end_date - start_date) * random.random()\n",
    "    return random_date.strftime('%d-%m-%Y')\n",
    "\n",
    "data = []\n",
    "\n",
    "for _ in range(N):\n",
    "    patient_id = f'PAT-{random.randint(10000, 99999)}'\n",
    "    address_line_1 = f'{random.randint(1, 9999)} {random.choice([\"North\", \"South\", \"East\", \"West\"])} Street'\n",
    "    address_line_2 = random.choice(['', f'Apt {random.randint(1, 999)}'])\n",
    "    suburb = random.choice(suburbs)\n",
    "    state = random.choice(states)\n",
    "    postal_code = random.choice(postal_codes)\n",
    "    gender = random.choice(genders)\n",
    "    occupation = random.choice(occupations)\n",
    "    dob = generate_date_of_birth()\n",
    "    marital_status = random.choice(marital_statuses)\n",
    "    dependents = random.randint(0, 5)\n",
    "    if suburb in [\"Docklands\", \"Melbourne\"]:\n",
    "        income_range = random.choices(income_ranges, weights)[0]   \n",
    "    else:\n",
    "        income_range = random.choice(income_ranges)\n",
    "\n",
    "    data.append([\n",
    "        patient_id, address_line_1, address_line_2, suburb, state, postal_code, country,\n",
    "        gender, occupation, dob, marital_status, dependents, income_range\n",
    "    ])\n",
    "\n",
    "df = pd.DataFrame(data, columns=[\n",
    "    'Patient ID', 'Address Line 1', 'Address Line 2', 'Suburb', 'State', 'Postal Code', 'Country',\n",
    "    'Gender', 'Occupation', 'Date of Birth', 'Marital Status', 'Dependents', 'Income Range'\n",
    "])\n",
    "\n",
    "print(df.head())\n",
    "\n",
    "df.to_csv('dashboard/data/synthetic_data.csv', index=False)\n"
   ]
  }
 ],
 "metadata": {
  "kernelspec": {
   "display_name": "Python 3 (ipykernel)",
   "language": "python",
   "name": "python3"
  },
  "language_info": {
   "codemirror_mode": {
    "name": "ipython",
    "version": 3
   },
   "file_extension": ".py",
   "mimetype": "text/x-python",
   "name": "python",
   "nbconvert_exporter": "python",
   "pygments_lexer": "ipython3",
   "version": "3.10.9"
  },
  "varInspector": {
   "cols": {
    "lenName": 16,
    "lenType": 16,
    "lenVar": 40
   },
   "kernels_config": {
    "python": {
     "delete_cmd_postfix": "",
     "delete_cmd_prefix": "del ",
     "library": "var_list.py",
     "varRefreshCmd": "print(var_dic_list())"
    },
    "r": {
     "delete_cmd_postfix": ") ",
     "delete_cmd_prefix": "rm(",
     "library": "var_list.r",
     "varRefreshCmd": "cat(var_dic_list()) "
    }
   },
   "types_to_exclude": [
    "module",
    "function",
    "builtin_function_or_method",
    "instance",
    "_Feature"
   ],
   "window_display": false
  }
 },
 "nbformat": 4,
 "nbformat_minor": 5
}
