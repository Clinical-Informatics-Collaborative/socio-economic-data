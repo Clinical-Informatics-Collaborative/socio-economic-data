{
 "cells": [
  {
   "cell_type": "markdown",
   "metadata": {},
   "source": [
    "## Change the file directory if you run this file on your own laptop."
   ]
  },
  {
   "cell_type": "code",
   "execution_count": 1,
   "metadata": {},
   "outputs": [],
   "source": [
    "import pandas as pd"
   ]
  },
  {
   "cell_type": "code",
   "execution_count": 6,
   "metadata": {},
   "outputs": [
    {
     "name": "stdout",
     "output_type": "stream",
     "text": [
      "Index(['Id', 'BIRTHDATE', 'DEATHDATE', 'SSN', 'DRIVERS', 'PASSPORT', 'PREFIX',\n",
      "       'FIRST', 'LAST', 'SUFFIX', 'MAIDEN', 'MARITAL', 'RACE', 'ETHNICITY',\n",
      "       'GENDER', 'BIRTHPLACE', 'ADDRESS', 'CITY', 'STATE', 'COUNTY', 'FIPS',\n",
      "       'ZIP', 'LAT', 'LON', 'HEALTHCARE_EXPENSES', 'HEALTHCARE_COVERAGE',\n",
      "       'INCOME'],\n",
      "      dtype='object')\n"
     ]
    },
    {
     "data": {
      "text/html": [
       "<div>\n",
       "<style scoped>\n",
       "    .dataframe tbody tr th:only-of-type {\n",
       "        vertical-align: middle;\n",
       "    }\n",
       "\n",
       "    .dataframe tbody tr th {\n",
       "        vertical-align: top;\n",
       "    }\n",
       "\n",
       "    .dataframe thead th {\n",
       "        text-align: right;\n",
       "    }\n",
       "</style>\n",
       "<table border=\"1\" class=\"dataframe\">\n",
       "  <thead>\n",
       "    <tr style=\"text-align: right;\">\n",
       "      <th></th>\n",
       "      <th>Id</th>\n",
       "      <th>BIRTHDATE</th>\n",
       "      <th>DEATHDATE</th>\n",
       "      <th>SSN</th>\n",
       "      <th>DRIVERS</th>\n",
       "      <th>PASSPORT</th>\n",
       "      <th>PREFIX</th>\n",
       "      <th>FIRST</th>\n",
       "      <th>LAST</th>\n",
       "      <th>SUFFIX</th>\n",
       "      <th>...</th>\n",
       "      <th>CITY</th>\n",
       "      <th>STATE</th>\n",
       "      <th>COUNTY</th>\n",
       "      <th>FIPS</th>\n",
       "      <th>ZIP</th>\n",
       "      <th>LAT</th>\n",
       "      <th>LON</th>\n",
       "      <th>HEALTHCARE_EXPENSES</th>\n",
       "      <th>HEALTHCARE_COVERAGE</th>\n",
       "      <th>INCOME</th>\n",
       "    </tr>\n",
       "  </thead>\n",
       "  <tbody>\n",
       "    <tr>\n",
       "      <th>0</th>\n",
       "      <td>bb30994a-ad91-d617-2466-e9ef4c3838dd</td>\n",
       "      <td>2010-10-24</td>\n",
       "      <td>NaN</td>\n",
       "      <td>999-25-7461</td>\n",
       "      <td>NaN</td>\n",
       "      <td>NaN</td>\n",
       "      <td>NaN</td>\n",
       "      <td>Nathan164</td>\n",
       "      <td>Schuster709</td>\n",
       "      <td>NaN</td>\n",
       "      <td>...</td>\n",
       "      <td>Walnut</td>\n",
       "      <td>California</td>\n",
       "      <td>Los Angeles County</td>\n",
       "      <td>6037.0</td>\n",
       "      <td>91724</td>\n",
       "      <td>34.110204</td>\n",
       "      <td>-117.803515</td>\n",
       "      <td>25831.61</td>\n",
       "      <td>3234.86</td>\n",
       "      <td>125285</td>\n",
       "    </tr>\n",
       "    <tr>\n",
       "      <th>1</th>\n",
       "      <td>22f309fb-7b30-144b-cedb-ce932fe286e4</td>\n",
       "      <td>2009-03-16</td>\n",
       "      <td>NaN</td>\n",
       "      <td>999-37-4271</td>\n",
       "      <td>NaN</td>\n",
       "      <td>NaN</td>\n",
       "      <td>NaN</td>\n",
       "      <td>Asia282</td>\n",
       "      <td>Lesch175</td>\n",
       "      <td>NaN</td>\n",
       "      <td>...</td>\n",
       "      <td>Soledad</td>\n",
       "      <td>California</td>\n",
       "      <td>Monterey County</td>\n",
       "      <td>6053.0</td>\n",
       "      <td>93960</td>\n",
       "      <td>36.342698</td>\n",
       "      <td>-121.434998</td>\n",
       "      <td>36690.25</td>\n",
       "      <td>0.00</td>\n",
       "      <td>47629</td>\n",
       "    </tr>\n",
       "    <tr>\n",
       "      <th>2</th>\n",
       "      <td>343787c0-ee04-90d8-61a5-4ed996438c63</td>\n",
       "      <td>1981-07-08</td>\n",
       "      <td>NaN</td>\n",
       "      <td>999-84-8564</td>\n",
       "      <td>S99994136</td>\n",
       "      <td>X23175682X</td>\n",
       "      <td>Mr.</td>\n",
       "      <td>Abram53</td>\n",
       "      <td>Cole117</td>\n",
       "      <td>NaN</td>\n",
       "      <td>...</td>\n",
       "      <td>Hanford</td>\n",
       "      <td>California</td>\n",
       "      <td>Kings County</td>\n",
       "      <td>6031.0</td>\n",
       "      <td>93230</td>\n",
       "      <td>36.260623</td>\n",
       "      <td>-119.615211</td>\n",
       "      <td>6289.69</td>\n",
       "      <td>54030.33</td>\n",
       "      <td>10371</td>\n",
       "    </tr>\n",
       "    <tr>\n",
       "      <th>3</th>\n",
       "      <td>162a2c8c-f58e-95e5-d952-13b08627fd1a</td>\n",
       "      <td>1978-03-07</td>\n",
       "      <td>NaN</td>\n",
       "      <td>999-54-8345</td>\n",
       "      <td>S99917811</td>\n",
       "      <td>X33252218X</td>\n",
       "      <td>Mrs.</td>\n",
       "      <td>Eufemia350</td>\n",
       "      <td>Jakubowski832</td>\n",
       "      <td>NaN</td>\n",
       "      <td>...</td>\n",
       "      <td>San Francisco</td>\n",
       "      <td>California</td>\n",
       "      <td>San Francisco County</td>\n",
       "      <td>6075.0</td>\n",
       "      <td>94111</td>\n",
       "      <td>37.780116</td>\n",
       "      <td>-122.450481</td>\n",
       "      <td>16832.02</td>\n",
       "      <td>2339850.05</td>\n",
       "      <td>19571</td>\n",
       "    </tr>\n",
       "    <tr>\n",
       "      <th>4</th>\n",
       "      <td>a1c82b81-cc4e-1eef-1046-a4081a4b12b4</td>\n",
       "      <td>1991-02-12</td>\n",
       "      <td>NaN</td>\n",
       "      <td>999-71-9025</td>\n",
       "      <td>S99938018</td>\n",
       "      <td>X79840478X</td>\n",
       "      <td>Mr.</td>\n",
       "      <td>Javier97</td>\n",
       "      <td>Terán294</td>\n",
       "      <td>NaN</td>\n",
       "      <td>...</td>\n",
       "      <td>Arcadia</td>\n",
       "      <td>California</td>\n",
       "      <td>Los Angeles County</td>\n",
       "      <td>6037.0</td>\n",
       "      <td>91732</td>\n",
       "      <td>34.138577</td>\n",
       "      <td>-118.065934</td>\n",
       "      <td>66081.73</td>\n",
       "      <td>20372.03</td>\n",
       "      <td>135002</td>\n",
       "    </tr>\n",
       "    <tr>\n",
       "      <th>...</th>\n",
       "      <td>...</td>\n",
       "      <td>...</td>\n",
       "      <td>...</td>\n",
       "      <td>...</td>\n",
       "      <td>...</td>\n",
       "      <td>...</td>\n",
       "      <td>...</td>\n",
       "      <td>...</td>\n",
       "      <td>...</td>\n",
       "      <td>...</td>\n",
       "      <td>...</td>\n",
       "      <td>...</td>\n",
       "      <td>...</td>\n",
       "      <td>...</td>\n",
       "      <td>...</td>\n",
       "      <td>...</td>\n",
       "      <td>...</td>\n",
       "      <td>...</td>\n",
       "      <td>...</td>\n",
       "      <td>...</td>\n",
       "      <td>...</td>\n",
       "    </tr>\n",
       "    <tr>\n",
       "      <th>5710</th>\n",
       "      <td>f4cee386-514c-de23-bf20-6d88f3153571</td>\n",
       "      <td>1986-07-19</td>\n",
       "      <td>NaN</td>\n",
       "      <td>999-22-2904</td>\n",
       "      <td>S99962544</td>\n",
       "      <td>X63396209X</td>\n",
       "      <td>Mr.</td>\n",
       "      <td>Octavio643</td>\n",
       "      <td>Muñoz828</td>\n",
       "      <td>NaN</td>\n",
       "      <td>...</td>\n",
       "      <td>San Diego</td>\n",
       "      <td>California</td>\n",
       "      <td>San Diego County</td>\n",
       "      <td>6073.0</td>\n",
       "      <td>92122</td>\n",
       "      <td>32.901176</td>\n",
       "      <td>-117.038117</td>\n",
       "      <td>60885.15</td>\n",
       "      <td>14885.42</td>\n",
       "      <td>894206</td>\n",
       "    </tr>\n",
       "    <tr>\n",
       "      <th>5711</th>\n",
       "      <td>7a9d48f0-623c-9dda-1de7-681f1d2e7f7b</td>\n",
       "      <td>1958-07-20</td>\n",
       "      <td>2015-04-09</td>\n",
       "      <td>999-71-2826</td>\n",
       "      <td>S99958264</td>\n",
       "      <td>X62286915X</td>\n",
       "      <td>Mr.</td>\n",
       "      <td>Abe604</td>\n",
       "      <td>Stark857</td>\n",
       "      <td>NaN</td>\n",
       "      <td>...</td>\n",
       "      <td>Costa Mesa</td>\n",
       "      <td>California</td>\n",
       "      <td>Orange County</td>\n",
       "      <td>6059.0</td>\n",
       "      <td>92626</td>\n",
       "      <td>33.631114</td>\n",
       "      <td>-117.798555</td>\n",
       "      <td>152505.53</td>\n",
       "      <td>2443760.53</td>\n",
       "      <td>106186</td>\n",
       "    </tr>\n",
       "    <tr>\n",
       "      <th>5712</th>\n",
       "      <td>27d948ff-e081-99c7-83a3-ef9e94a6b01d</td>\n",
       "      <td>2000-10-17</td>\n",
       "      <td>NaN</td>\n",
       "      <td>999-97-2074</td>\n",
       "      <td>S99956339</td>\n",
       "      <td>X38583829X</td>\n",
       "      <td>Mr.</td>\n",
       "      <td>Forrest301</td>\n",
       "      <td>Waters156</td>\n",
       "      <td>NaN</td>\n",
       "      <td>...</td>\n",
       "      <td>Norwalk</td>\n",
       "      <td>California</td>\n",
       "      <td>Los Angeles County</td>\n",
       "      <td>6037.0</td>\n",
       "      <td>90703</td>\n",
       "      <td>33.836854</td>\n",
       "      <td>-118.078111</td>\n",
       "      <td>13482.06</td>\n",
       "      <td>1047683.40</td>\n",
       "      <td>87279</td>\n",
       "    </tr>\n",
       "    <tr>\n",
       "      <th>5713</th>\n",
       "      <td>bd7ebd2a-6e12-2b09-a22f-a3ed83a93561</td>\n",
       "      <td>1958-07-20</td>\n",
       "      <td>NaN</td>\n",
       "      <td>999-20-9898</td>\n",
       "      <td>S99913259</td>\n",
       "      <td>X87294055X</td>\n",
       "      <td>Mr.</td>\n",
       "      <td>Kelly223</td>\n",
       "      <td>Ondricka197</td>\n",
       "      <td>NaN</td>\n",
       "      <td>...</td>\n",
       "      <td>Costa Mesa</td>\n",
       "      <td>California</td>\n",
       "      <td>Orange County</td>\n",
       "      <td>6059.0</td>\n",
       "      <td>92646</td>\n",
       "      <td>33.724060</td>\n",
       "      <td>-117.903008</td>\n",
       "      <td>354873.71</td>\n",
       "      <td>1065469.66</td>\n",
       "      <td>106186</td>\n",
       "    </tr>\n",
       "    <tr>\n",
       "      <th>5714</th>\n",
       "      <td>30bfbb3e-2f6a-f599-c87e-3b3fdf0d0b33</td>\n",
       "      <td>1946-10-19</td>\n",
       "      <td>NaN</td>\n",
       "      <td>999-12-6776</td>\n",
       "      <td>S99914184</td>\n",
       "      <td>X77226361X</td>\n",
       "      <td>Mrs.</td>\n",
       "      <td>Graciela518</td>\n",
       "      <td>Zarate81</td>\n",
       "      <td>NaN</td>\n",
       "      <td>...</td>\n",
       "      <td>Carson</td>\n",
       "      <td>California</td>\n",
       "      <td>Los Angeles County</td>\n",
       "      <td>6037.0</td>\n",
       "      <td>90248</td>\n",
       "      <td>33.868254</td>\n",
       "      <td>-118.249119</td>\n",
       "      <td>737028.50</td>\n",
       "      <td>851526.10</td>\n",
       "      <td>88949</td>\n",
       "    </tr>\n",
       "  </tbody>\n",
       "</table>\n",
       "<p>5715 rows × 27 columns</p>\n",
       "</div>"
      ],
      "text/plain": [
       "                                        Id   BIRTHDATE   DEATHDATE  \\\n",
       "0     bb30994a-ad91-d617-2466-e9ef4c3838dd  2010-10-24         NaN   \n",
       "1     22f309fb-7b30-144b-cedb-ce932fe286e4  2009-03-16         NaN   \n",
       "2     343787c0-ee04-90d8-61a5-4ed996438c63  1981-07-08         NaN   \n",
       "3     162a2c8c-f58e-95e5-d952-13b08627fd1a  1978-03-07         NaN   \n",
       "4     a1c82b81-cc4e-1eef-1046-a4081a4b12b4  1991-02-12         NaN   \n",
       "...                                    ...         ...         ...   \n",
       "5710  f4cee386-514c-de23-bf20-6d88f3153571  1986-07-19         NaN   \n",
       "5711  7a9d48f0-623c-9dda-1de7-681f1d2e7f7b  1958-07-20  2015-04-09   \n",
       "5712  27d948ff-e081-99c7-83a3-ef9e94a6b01d  2000-10-17         NaN   \n",
       "5713  bd7ebd2a-6e12-2b09-a22f-a3ed83a93561  1958-07-20         NaN   \n",
       "5714  30bfbb3e-2f6a-f599-c87e-3b3fdf0d0b33  1946-10-19         NaN   \n",
       "\n",
       "              SSN    DRIVERS    PASSPORT PREFIX        FIRST           LAST  \\\n",
       "0     999-25-7461        NaN         NaN    NaN    Nathan164    Schuster709   \n",
       "1     999-37-4271        NaN         NaN    NaN      Asia282       Lesch175   \n",
       "2     999-84-8564  S99994136  X23175682X    Mr.      Abram53        Cole117   \n",
       "3     999-54-8345  S99917811  X33252218X   Mrs.   Eufemia350  Jakubowski832   \n",
       "4     999-71-9025  S99938018  X79840478X    Mr.     Javier97       Terán294   \n",
       "...           ...        ...         ...    ...          ...            ...   \n",
       "5710  999-22-2904  S99962544  X63396209X    Mr.   Octavio643       Muñoz828   \n",
       "5711  999-71-2826  S99958264  X62286915X    Mr.       Abe604       Stark857   \n",
       "5712  999-97-2074  S99956339  X38583829X    Mr.   Forrest301      Waters156   \n",
       "5713  999-20-9898  S99913259  X87294055X    Mr.     Kelly223    Ondricka197   \n",
       "5714  999-12-6776  S99914184  X77226361X   Mrs.  Graciela518       Zarate81   \n",
       "\n",
       "     SUFFIX  ...           CITY       STATE                COUNTY    FIPS  \\\n",
       "0       NaN  ...         Walnut  California    Los Angeles County  6037.0   \n",
       "1       NaN  ...        Soledad  California       Monterey County  6053.0   \n",
       "2       NaN  ...        Hanford  California          Kings County  6031.0   \n",
       "3       NaN  ...  San Francisco  California  San Francisco County  6075.0   \n",
       "4       NaN  ...        Arcadia  California    Los Angeles County  6037.0   \n",
       "...     ...  ...            ...         ...                   ...     ...   \n",
       "5710    NaN  ...      San Diego  California      San Diego County  6073.0   \n",
       "5711    NaN  ...     Costa Mesa  California         Orange County  6059.0   \n",
       "5712    NaN  ...        Norwalk  California    Los Angeles County  6037.0   \n",
       "5713    NaN  ...     Costa Mesa  California         Orange County  6059.0   \n",
       "5714    NaN  ...         Carson  California    Los Angeles County  6037.0   \n",
       "\n",
       "        ZIP        LAT         LON HEALTHCARE_EXPENSES HEALTHCARE_COVERAGE  \\\n",
       "0     91724  34.110204 -117.803515            25831.61             3234.86   \n",
       "1     93960  36.342698 -121.434998            36690.25                0.00   \n",
       "2     93230  36.260623 -119.615211             6289.69            54030.33   \n",
       "3     94111  37.780116 -122.450481            16832.02          2339850.05   \n",
       "4     91732  34.138577 -118.065934            66081.73            20372.03   \n",
       "...     ...        ...         ...                 ...                 ...   \n",
       "5710  92122  32.901176 -117.038117            60885.15            14885.42   \n",
       "5711  92626  33.631114 -117.798555           152505.53          2443760.53   \n",
       "5712  90703  33.836854 -118.078111            13482.06          1047683.40   \n",
       "5713  92646  33.724060 -117.903008           354873.71          1065469.66   \n",
       "5714  90248  33.868254 -118.249119           737028.50           851526.10   \n",
       "\n",
       "      INCOME  \n",
       "0     125285  \n",
       "1      47629  \n",
       "2      10371  \n",
       "3      19571  \n",
       "4     135002  \n",
       "...      ...  \n",
       "5710  894206  \n",
       "5711  106186  \n",
       "5712   87279  \n",
       "5713  106186  \n",
       "5714   88949  \n",
       "\n",
       "[5715 rows x 27 columns]"
      ]
     },
     "execution_count": 6,
     "metadata": {},
     "output_type": "execute_result"
    }
   ],
   "source": [
    "patients = pd.read_csv(\"data/patients.csv\")\n",
    "print(patients.columns)\n",
    "patients"
   ]
  },
  {
   "cell_type": "code",
   "execution_count": null,
   "metadata": {},
   "outputs": [],
   "source": [
    "conditions = pd.read_csv(\"data/conditions.csv\")\n",
    "print(conditions.columns)\n",
    "#select patients with anxiety\n",
    "conditions = conditions[conditions[\"DESCRIPTION\"].str.contains(\"anxiety\")]\n",
    "conditions"
   ]
  },
  {
   "cell_type": "code",
   "execution_count": null,
   "metadata": {},
   "outputs": [],
   "source": [
    "anxiety_patients = pd.merge(patients, conditions, left_on='Id', right_on='PATIENT')\n",
    "#select specific columns\n",
    "anxiety_patients = anxiety_patients[['Id', 'ZIP', 'RACE', 'GENDER', 'ETHNICITY', 'INCOME', 'HEALTHCARE_EXPENSES', 'HEALTHCARE_COVERAGE', 'DESCRIPTION']]\n",
    "anxiety_patients"
   ]
  },
  {
   "cell_type": "markdown",
   "metadata": {},
   "source": [
    "NOTE: Multiple observations for same patient can exist "
   ]
  },
  {
   "cell_type": "code",
   "execution_count": 8,
   "metadata": {},
   "outputs": [
    {
     "name": "stdout",
     "output_type": "stream",
     "text": [
      "Index(['DATE', 'PATIENT', 'ENCOUNTER', 'CATEGORY', 'CODE', 'DESCRIPTION',\n",
      "       'VALUE', 'UNITS', 'TYPE'],\n",
      "      dtype='object')\n"
     ]
    }
   ],
   "source": [
    "observations = pd.read_csv(\"data/observations.csv\")\n",
    "print(observations.columns)\n",
    "#select observations recorded for anxiety\n",
    "observations = observations[observations[\"DESCRIPTION\"].str.contains(\"anxiety\")]\n"
   ]
  },
  {
   "cell_type": "code",
   "execution_count": null,
   "metadata": {},
   "outputs": [],
   "source": [
    "anxiety_observations = pd.merge(anxiety_patients, observations, left_on='Id', right_on='PATIENT')\n",
    "#select columns of interest\n",
    "anxiety_observations = anxiety_observations[['Id', 'ZIP', 'RACE', 'GENDER', 'ETHNICITY', 'INCOME', 'HEALTHCARE_EXPENSES', 'HEALTHCARE_COVERAGE', 'DESCRIPTION_x', 'DESCRIPTION_y', 'VALUE']]\n",
    "anxiety_observations"
   ]
  },
  {
   "cell_type": "code",
   "execution_count": null,
   "metadata": {},
   "outputs": [],
   "source": [
    "anxiety_observations = anxiety_observations.rename(columns={'DESCRIPTION_x':'CONDITION', 'DESCRIPTION_y':'OBSERVED_CONDITION'})\n",
    "anxiety_observations"
   ]
  },
  {
   "cell_type": "markdown",
   "metadata": {},
   "source": [
    "Data cleaning on Synthetic medical data"
   ]
  },
  {
   "cell_type": "markdown",
   "metadata": {},
   "source": [
    "Drop rows with ZIP = 0"
   ]
  },
  {
   "cell_type": "code",
   "execution_count": 43,
   "metadata": {},
   "outputs": [],
   "source": [
    "anxiety_df = anxiety_observations[anxiety_observations.ZIP != 0]\n",
    "anxiety_df.shape"
   ]
  },
  {
   "cell_type": "code",
   "execution_count": 46,
   "metadata": {},
   "outputs": [
    {
     "data": {
      "text/plain": [
       "ZIP\n",
       "90001    208\n",
       "90002      3\n",
       "90005      4\n",
       "90006     31\n",
       "90007      9\n",
       "        ... \n",
       "95949      3\n",
       "95963     21\n",
       "95971     76\n",
       "96003     13\n",
       "96117     40\n",
       "Length: 460, dtype: int64"
      ]
     },
     "execution_count": 46,
     "metadata": {},
     "output_type": "execute_result"
    }
   ],
   "source": [
    "# Number of cities in California\n",
    "anxiety_df.groupby('ZIP').size()"
   ]
  },
  {
   "cell_type": "code",
   "execution_count": 90,
   "metadata": {},
   "outputs": [
    {
     "name": "stdout",
     "output_type": "stream",
     "text": [
      "CITY\n",
      "Acton            2\n",
      "Adelanto         7\n",
      "Agoura Hills     2\n",
      "Alameda         10\n",
      "Alamo            1\n",
      "                ..\n",
      "Yountville       3\n",
      "Yreka            2\n",
      "Yuba City       16\n",
      "Yucaipa          9\n",
      "Yucca Valley     8\n",
      "Length: 574, dtype: int64\n"
     ]
    }
   ],
   "source": [
    "# Number of California CITY (inside COUNTY) \n",
    "print(patients[patients['ZIP'] != 0].groupby('CITY').size())\n",
    "# print(patients[patients['ZIP'] != 0].groupby('COUNTY').size())"
   ]
  },
  {
   "cell_type": "code",
   "execution_count": 77,
   "metadata": {},
   "outputs": [
    {
     "data": {
      "text/plain": [
       "Index(['Id', 'ZIP', 'RACE', 'GENDER', 'ETHNICITY', 'INCOME',\n",
       "       'HEALTHCARE_EXPENSES', 'HEALTHCARE_COVERAGE', 'CONDITION',\n",
       "       'OBSERVED_CONDITION', 'VALUE'],\n",
       "      dtype='object')"
      ]
     },
     "execution_count": 77,
     "metadata": {},
     "output_type": "execute_result"
    }
   ],
   "source": [
    "anxiety_observations.columns"
   ]
  },
  {
   "cell_type": "markdown",
   "metadata": {},
   "source": [
    "In the **anxiety_df dataset** of California state in US, there are 460 city/zip codes. In the **vic_zipcode dataset** of Victoria state in Australia, there are 749 suburbs/zip code."
   ]
  },
  {
   "cell_type": "code",
   "execution_count": 122,
   "metadata": {},
   "outputs": [
    {
     "data": {
      "text/plain": [
       "(18513, 6)"
      ]
     },
     "execution_count": 122,
     "metadata": {},
     "output_type": "execute_result"
    }
   ],
   "source": [
    "# Paste your own full file path\n",
    "aus_zipcode = pd.read_csv(\"/Users/cindy_homefolder/Desktop/y1s2/ENGR90033/choropleth map/synthea 2023/australian data/zipcodes_au.csv\", index_col=None)\n",
    "aus_zipcode.shape"
   ]
  },
  {
   "cell_type": "code",
   "execution_count": 123,
   "metadata": {},
   "outputs": [
    {
     "data": {
      "text/html": [
       "<div>\n",
       "<style scoped>\n",
       "    .dataframe tbody tr th:only-of-type {\n",
       "        vertical-align: middle;\n",
       "    }\n",
       "\n",
       "    .dataframe tbody tr th {\n",
       "        vertical-align: top;\n",
       "    }\n",
       "\n",
       "    .dataframe thead th {\n",
       "        text-align: right;\n",
       "    }\n",
       "</style>\n",
       "<table border=\"1\" class=\"dataframe\">\n",
       "  <thead>\n",
       "    <tr style=\"text-align: right;\">\n",
       "      <th></th>\n",
       "      <th>USPS</th>\n",
       "      <th>ST</th>\n",
       "      <th>NAME</th>\n",
       "      <th>ZCTA5</th>\n",
       "      <th>LAT</th>\n",
       "      <th>LON</th>\n",
       "    </tr>\n",
       "  </thead>\n",
       "  <tbody>\n",
       "    <tr>\n",
       "      <th>0</th>\n",
       "      <td>Australian Capital Territory</td>\n",
       "      <td>ACT</td>\n",
       "      <td>Unincorporated ACT</td>\n",
       "      <td>200</td>\n",
       "      <td>-35.277700</td>\n",
       "      <td>149.119000</td>\n",
       "    </tr>\n",
       "    <tr>\n",
       "      <th>1</th>\n",
       "      <td>Australian Capital Territory</td>\n",
       "      <td>ACT</td>\n",
       "      <td>Unincorporated ACT</td>\n",
       "      <td>200</td>\n",
       "      <td>-35.277700</td>\n",
       "      <td>149.118900</td>\n",
       "    </tr>\n",
       "    <tr>\n",
       "      <th>2</th>\n",
       "      <td>Australian Capital Territory</td>\n",
       "      <td>ACT</td>\n",
       "      <td>Unincorporated ACT</td>\n",
       "      <td>2540</td>\n",
       "      <td>-34.863483</td>\n",
       "      <td>150.616440</td>\n",
       "    </tr>\n",
       "    <tr>\n",
       "      <th>3</th>\n",
       "      <td>Australian Capital Territory</td>\n",
       "      <td>ACT</td>\n",
       "      <td>Unincorporated ACT</td>\n",
       "      <td>2540</td>\n",
       "      <td>-34.863483</td>\n",
       "      <td>150.616440</td>\n",
       "    </tr>\n",
       "    <tr>\n",
       "      <th>4</th>\n",
       "      <td>Australian Capital Territory</td>\n",
       "      <td>ACT</td>\n",
       "      <td>Unincorporated ACT</td>\n",
       "      <td>2540</td>\n",
       "      <td>-35.129878</td>\n",
       "      <td>150.707521</td>\n",
       "    </tr>\n",
       "    <tr>\n",
       "      <th>...</th>\n",
       "      <td>...</td>\n",
       "      <td>...</td>\n",
       "      <td>...</td>\n",
       "      <td>...</td>\n",
       "      <td>...</td>\n",
       "      <td>...</td>\n",
       "    </tr>\n",
       "    <tr>\n",
       "      <th>18508</th>\n",
       "      <td>Western Australia</td>\n",
       "      <td>WA</td>\n",
       "      <td>Gosnells</td>\n",
       "      <td>6989</td>\n",
       "      <td>-32.039597</td>\n",
       "      <td>116.009575</td>\n",
       "    </tr>\n",
       "    <tr>\n",
       "      <th>18509</th>\n",
       "      <td>Western Australia</td>\n",
       "      <td>WA</td>\n",
       "      <td>Gosnells</td>\n",
       "      <td>6990</td>\n",
       "      <td>-32.060407</td>\n",
       "      <td>116.008461</td>\n",
       "    </tr>\n",
       "    <tr>\n",
       "      <th>18510</th>\n",
       "      <td>Western Australia</td>\n",
       "      <td>WA</td>\n",
       "      <td>Armadale</td>\n",
       "      <td>6991</td>\n",
       "      <td>-32.097880</td>\n",
       "      <td>116.095955</td>\n",
       "    </tr>\n",
       "    <tr>\n",
       "      <th>18511</th>\n",
       "      <td>Western Australia</td>\n",
       "      <td>WA</td>\n",
       "      <td>Victoria Park</td>\n",
       "      <td>6992</td>\n",
       "      <td>-31.964503</td>\n",
       "      <td>115.920395</td>\n",
       "    </tr>\n",
       "    <tr>\n",
       "      <th>18512</th>\n",
       "      <td>Western Australia</td>\n",
       "      <td>WA</td>\n",
       "      <td>Armadale</td>\n",
       "      <td>6997</td>\n",
       "      <td>-32.097880</td>\n",
       "      <td>116.095955</td>\n",
       "    </tr>\n",
       "  </tbody>\n",
       "</table>\n",
       "<p>18513 rows × 6 columns</p>\n",
       "</div>"
      ],
      "text/plain": [
       "                               USPS   ST                NAME  ZCTA5  \\\n",
       "0      Australian Capital Territory  ACT  Unincorporated ACT    200   \n",
       "1      Australian Capital Territory  ACT  Unincorporated ACT    200   \n",
       "2      Australian Capital Territory  ACT  Unincorporated ACT   2540   \n",
       "3      Australian Capital Territory  ACT  Unincorporated ACT   2540   \n",
       "4      Australian Capital Territory  ACT  Unincorporated ACT   2540   \n",
       "...                             ...  ...                 ...    ...   \n",
       "18508             Western Australia   WA            Gosnells   6989   \n",
       "18509             Western Australia   WA            Gosnells   6990   \n",
       "18510             Western Australia   WA            Armadale   6991   \n",
       "18511             Western Australia   WA       Victoria Park   6992   \n",
       "18512             Western Australia   WA            Armadale   6997   \n",
       "\n",
       "             LAT         LON  \n",
       "0     -35.277700  149.119000  \n",
       "1     -35.277700  149.118900  \n",
       "2     -34.863483  150.616440  \n",
       "3     -34.863483  150.616440  \n",
       "4     -35.129878  150.707521  \n",
       "...          ...         ...  \n",
       "18508 -32.039597  116.009575  \n",
       "18509 -32.060407  116.008461  \n",
       "18510 -32.097880  116.095955  \n",
       "18511 -31.964503  115.920395  \n",
       "18512 -32.097880  116.095955  \n",
       "\n",
       "[18513 rows x 6 columns]"
      ]
     },
     "execution_count": 123,
     "metadata": {},
     "output_type": "execute_result"
    }
   ],
   "source": [
    "aus_zipcode"
   ]
  },
  {
   "cell_type": "markdown",
   "metadata": {},
   "source": [
    "Generate Victoria dataset and replace ZIP column in anxiety_df to Victoria postcode due to the unsolved custom module issue of Synthea. "
   ]
  },
  {
   "cell_type": "code",
   "execution_count": 124,
   "metadata": {},
   "outputs": [
    {
     "data": {
      "text/plain": [
       "(3540, 6)"
      ]
     },
     "execution_count": 124,
     "metadata": {},
     "output_type": "execute_result"
    }
   ],
   "source": [
    "vic_zipcode = aus_zipcode[aus_zipcode['USPS'] == 'Victoria']\n",
    "vic_zipcode.shape\n"
   ]
  },
  {
   "cell_type": "code",
   "execution_count": 125,
   "metadata": {},
   "outputs": [
    {
     "data": {
      "text/html": [
       "<div>\n",
       "<style scoped>\n",
       "    .dataframe tbody tr th:only-of-type {\n",
       "        vertical-align: middle;\n",
       "    }\n",
       "\n",
       "    .dataframe tbody tr th {\n",
       "        vertical-align: top;\n",
       "    }\n",
       "\n",
       "    .dataframe thead th {\n",
       "        text-align: right;\n",
       "    }\n",
       "</style>\n",
       "<table border=\"1\" class=\"dataframe\">\n",
       "  <thead>\n",
       "    <tr style=\"text-align: right;\">\n",
       "      <th></th>\n",
       "      <th>USPS</th>\n",
       "      <th>ST</th>\n",
       "      <th>NAME</th>\n",
       "      <th>ZCTA5</th>\n",
       "      <th>LAT</th>\n",
       "      <th>LON</th>\n",
       "    </tr>\n",
       "  </thead>\n",
       "  <tbody>\n",
       "    <tr>\n",
       "      <th>13034</th>\n",
       "      <td>Victoria</td>\n",
       "      <td>VIC</td>\n",
       "      <td>Melbourne</td>\n",
       "      <td>3000</td>\n",
       "      <td>-37.817403</td>\n",
       "      <td>144.956776</td>\n",
       "    </tr>\n",
       "    <tr>\n",
       "      <th>13035</th>\n",
       "      <td>Victoria</td>\n",
       "      <td>VIC</td>\n",
       "      <td>Melbourne</td>\n",
       "      <td>3001</td>\n",
       "      <td>-37.817403</td>\n",
       "      <td>144.956776</td>\n",
       "    </tr>\n",
       "    <tr>\n",
       "      <th>13036</th>\n",
       "      <td>Victoria</td>\n",
       "      <td>VIC</td>\n",
       "      <td>Yarra</td>\n",
       "      <td>3002</td>\n",
       "      <td>-37.818517</td>\n",
       "      <td>144.982207</td>\n",
       "    </tr>\n",
       "    <tr>\n",
       "      <th>13037</th>\n",
       "      <td>Victoria</td>\n",
       "      <td>VIC</td>\n",
       "      <td>Melbourne</td>\n",
       "      <td>3003</td>\n",
       "      <td>-37.810871</td>\n",
       "      <td>144.949592</td>\n",
       "    </tr>\n",
       "    <tr>\n",
       "      <th>13038</th>\n",
       "      <td>Victoria</td>\n",
       "      <td>VIC</td>\n",
       "      <td>Port Phillip</td>\n",
       "      <td>3004</td>\n",
       "      <td>-37.844246</td>\n",
       "      <td>144.970161</td>\n",
       "    </tr>\n",
       "    <tr>\n",
       "      <th>...</th>\n",
       "      <td>...</td>\n",
       "      <td>...</td>\n",
       "      <td>...</td>\n",
       "      <td>...</td>\n",
       "      <td>...</td>\n",
       "      <td>...</td>\n",
       "    </tr>\n",
       "    <tr>\n",
       "      <th>16569</th>\n",
       "      <td>Victoria</td>\n",
       "      <td>VIC</td>\n",
       "      <td>South Gippsland</td>\n",
       "      <td>8438</td>\n",
       "      <td>0.000000</td>\n",
       "      <td>0.000000</td>\n",
       "    </tr>\n",
       "    <tr>\n",
       "      <th>16570</th>\n",
       "      <td>Victoria</td>\n",
       "      <td>VIC</td>\n",
       "      <td>South Gippsland</td>\n",
       "      <td>8511</td>\n",
       "      <td>0.000000</td>\n",
       "      <td>0.000000</td>\n",
       "    </tr>\n",
       "    <tr>\n",
       "      <th>16571</th>\n",
       "      <td>Victoria</td>\n",
       "      <td>VIC</td>\n",
       "      <td>Greater Dandenong</td>\n",
       "      <td>8785</td>\n",
       "      <td>-38.016114</td>\n",
       "      <td>145.208504</td>\n",
       "    </tr>\n",
       "    <tr>\n",
       "      <th>16572</th>\n",
       "      <td>Victoria</td>\n",
       "      <td>VIC</td>\n",
       "      <td>Greater Dandenong</td>\n",
       "      <td>8785</td>\n",
       "      <td>-38.016114</td>\n",
       "      <td>145.208504</td>\n",
       "    </tr>\n",
       "    <tr>\n",
       "      <th>16573</th>\n",
       "      <td>Victoria</td>\n",
       "      <td>VIC</td>\n",
       "      <td>Melbourne</td>\n",
       "      <td>9999</td>\n",
       "      <td>-37.817403</td>\n",
       "      <td>144.956776</td>\n",
       "    </tr>\n",
       "  </tbody>\n",
       "</table>\n",
       "<p>3540 rows × 6 columns</p>\n",
       "</div>"
      ],
      "text/plain": [
       "           USPS   ST               NAME  ZCTA5        LAT         LON\n",
       "13034  Victoria  VIC          Melbourne   3000 -37.817403  144.956776\n",
       "13035  Victoria  VIC          Melbourne   3001 -37.817403  144.956776\n",
       "13036  Victoria  VIC              Yarra   3002 -37.818517  144.982207\n",
       "13037  Victoria  VIC          Melbourne   3003 -37.810871  144.949592\n",
       "13038  Victoria  VIC       Port Phillip   3004 -37.844246  144.970161\n",
       "...         ...  ...                ...    ...        ...         ...\n",
       "16569  Victoria  VIC    South Gippsland   8438   0.000000    0.000000\n",
       "16570  Victoria  VIC    South Gippsland   8511   0.000000    0.000000\n",
       "16571  Victoria  VIC  Greater Dandenong   8785 -38.016114  145.208504\n",
       "16572  Victoria  VIC  Greater Dandenong   8785 -38.016114  145.208504\n",
       "16573  Victoria  VIC          Melbourne   9999 -37.817403  144.956776\n",
       "\n",
       "[3540 rows x 6 columns]"
      ]
     },
     "execution_count": 125,
     "metadata": {},
     "output_type": "execute_result"
    }
   ],
   "source": [
    "vic_zipcode"
   ]
  },
  {
   "cell_type": "markdown",
   "metadata": {},
   "source": [
    "The dataset got no suburb level, only the state level in zip code column, ZCTA5. Therefore, multiple zip codes belong to one suburb. "
   ]
  },
  {
   "cell_type": "code",
   "execution_count": 126,
   "metadata": {},
   "outputs": [
    {
     "data": {
      "text/plain": [
       "NAME\n",
       "Alpine           48\n",
       "Ararat           40\n",
       "Ballarat        105\n",
       "Banyule          25\n",
       "Bass Coast       71\n",
       "               ... \n",
       "Wodonga          15\n",
       "Wyndham          27\n",
       "Yarra            26\n",
       "Yarra Ranges     29\n",
       "Yarriambiack     25\n",
       "Length: 80, dtype: int64"
      ]
     },
     "execution_count": 126,
     "metadata": {},
     "output_type": "execute_result"
    }
   ],
   "source": [
    "vic_zipcode.groupby('NAME').size()"
   ]
  },
  {
   "cell_type": "code",
   "execution_count": 127,
   "metadata": {},
   "outputs": [
    {
     "data": {
      "text/plain": [
       "ZCTA5\n",
       "3000    1\n",
       "3001    1\n",
       "3002    1\n",
       "3003    1\n",
       "3004    3\n",
       "       ..\n",
       "8205    1\n",
       "8438    1\n",
       "8511    1\n",
       "8785    2\n",
       "9999    1\n",
       "Length: 749, dtype: int64"
      ]
     },
     "execution_count": 127,
     "metadata": {},
     "output_type": "execute_result"
    }
   ],
   "source": [
    "vic_zipcode.groupby('ZCTA5').size()"
   ]
  },
  {
   "cell_type": "code",
   "execution_count": 128,
   "metadata": {},
   "outputs": [],
   "source": [
    "# vic_zipcode[vic_zipcode.ZCTA5 == 9999]\n",
    "# vic_zipcode[vic_zipcode.NAME == 'Yarra']"
   ]
  },
  {
   "cell_type": "markdown",
   "metadata": {},
   "source": [
    "Consider the data distribution in two datasets and their different dimension, I will take SEIFA data into consider too. "
   ]
  },
  {
   "cell_type": "code",
   "execution_count": 129,
   "metadata": {},
   "outputs": [
    {
     "data": {
      "text/html": [
       "<div>\n",
       "<style scoped>\n",
       "    .dataframe tbody tr th:only-of-type {\n",
       "        vertical-align: middle;\n",
       "    }\n",
       "\n",
       "    .dataframe tbody tr th {\n",
       "        vertical-align: top;\n",
       "    }\n",
       "\n",
       "    .dataframe thead th {\n",
       "        text-align: right;\n",
       "    }\n",
       "</style>\n",
       "<table border=\"1\" class=\"dataframe\">\n",
       "  <thead>\n",
       "    <tr style=\"text-align: right;\">\n",
       "      <th></th>\n",
       "      <th>ID</th>\n",
       "      <th>COUNTY</th>\n",
       "      <th>NAME</th>\n",
       "      <th>STNAME</th>\n",
       "      <th>POPESTIMATE2015</th>\n",
       "      <th>CTYNAME</th>\n",
       "      <th>TOT_POP</th>\n",
       "      <th>TOT_MALE</th>\n",
       "      <th>TOT_FEMALE</th>\n",
       "      <th>WHITE</th>\n",
       "      <th>...</th>\n",
       "      <th>35..50</th>\n",
       "      <th>50..75</th>\n",
       "      <th>75..100</th>\n",
       "      <th>100..150</th>\n",
       "      <th>150..200</th>\n",
       "      <th>200..999</th>\n",
       "      <th>LESS_THAN_HS</th>\n",
       "      <th>HS_DEGREE</th>\n",
       "      <th>SOME_COLLEGE</th>\n",
       "      <th>BS_DEGREE</th>\n",
       "    </tr>\n",
       "  </thead>\n",
       "  <tbody>\n",
       "    <tr>\n",
       "      <th>0</th>\n",
       "      <td>10050</td>\n",
       "      <td>10050</td>\n",
       "      <td>Albury</td>\n",
       "      <td>New South Wales</td>\n",
       "      <td>56036</td>\n",
       "      <td>Albury</td>\n",
       "      <td>56036</td>\n",
       "      <td>0.487401</td>\n",
       "      <td>0.512599</td>\n",
       "      <td>0.522188</td>\n",
       "      <td>...</td>\n",
       "      <td>0.0980</td>\n",
       "      <td>0.0976</td>\n",
       "      <td>0.0976</td>\n",
       "      <td>0.1008</td>\n",
       "      <td>0.1040</td>\n",
       "      <td>0.1040</td>\n",
       "      <td>0.405605</td>\n",
       "      <td>0.171377</td>\n",
       "      <td>0.106205</td>\n",
       "      <td>0.316813</td>\n",
       "    </tr>\n",
       "    <tr>\n",
       "      <th>1</th>\n",
       "      <td>10180</td>\n",
       "      <td>10180</td>\n",
       "      <td>Armidale Regional</td>\n",
       "      <td>New South Wales</td>\n",
       "      <td>29332</td>\n",
       "      <td>Armidale Regional</td>\n",
       "      <td>29332</td>\n",
       "      <td>0.485068</td>\n",
       "      <td>0.514932</td>\n",
       "      <td>0.522188</td>\n",
       "      <td>...</td>\n",
       "      <td>0.1096</td>\n",
       "      <td>0.1120</td>\n",
       "      <td>0.1120</td>\n",
       "      <td>0.0956</td>\n",
       "      <td>0.0792</td>\n",
       "      <td>0.0792</td>\n",
       "      <td>0.405605</td>\n",
       "      <td>0.171377</td>\n",
       "      <td>0.106205</td>\n",
       "      <td>0.316813</td>\n",
       "    </tr>\n",
       "    <tr>\n",
       "      <th>2</th>\n",
       "      <td>10250</td>\n",
       "      <td>10250</td>\n",
       "      <td>Ballina</td>\n",
       "      <td>New South Wales</td>\n",
       "      <td>46172</td>\n",
       "      <td>Ballina</td>\n",
       "      <td>46172</td>\n",
       "      <td>0.486529</td>\n",
       "      <td>0.513471</td>\n",
       "      <td>0.522188</td>\n",
       "      <td>...</td>\n",
       "      <td>0.1108</td>\n",
       "      <td>0.0924</td>\n",
       "      <td>0.0924</td>\n",
       "      <td>0.0826</td>\n",
       "      <td>0.0728</td>\n",
       "      <td>0.0728</td>\n",
       "      <td>0.405605</td>\n",
       "      <td>0.171377</td>\n",
       "      <td>0.106205</td>\n",
       "      <td>0.316813</td>\n",
       "    </tr>\n",
       "    <tr>\n",
       "      <th>3</th>\n",
       "      <td>10300</td>\n",
       "      <td>10300</td>\n",
       "      <td>Balranald</td>\n",
       "      <td>New South Wales</td>\n",
       "      <td>2207</td>\n",
       "      <td>Balranald</td>\n",
       "      <td>2207</td>\n",
       "      <td>0.496602</td>\n",
       "      <td>0.503398</td>\n",
       "      <td>0.522188</td>\n",
       "      <td>...</td>\n",
       "      <td>0.1156</td>\n",
       "      <td>0.0908</td>\n",
       "      <td>0.0908</td>\n",
       "      <td>0.0828</td>\n",
       "      <td>0.0748</td>\n",
       "      <td>0.0748</td>\n",
       "      <td>0.405605</td>\n",
       "      <td>0.171377</td>\n",
       "      <td>0.106205</td>\n",
       "      <td>0.316813</td>\n",
       "    </tr>\n",
       "    <tr>\n",
       "      <th>4</th>\n",
       "      <td>10470</td>\n",
       "      <td>10470</td>\n",
       "      <td>Bathurst Regional</td>\n",
       "      <td>New South Wales</td>\n",
       "      <td>43653</td>\n",
       "      <td>Bathurst Regional</td>\n",
       "      <td>43653</td>\n",
       "      <td>0.507594</td>\n",
       "      <td>0.492406</td>\n",
       "      <td>0.522188</td>\n",
       "      <td>...</td>\n",
       "      <td>0.1192</td>\n",
       "      <td>0.1164</td>\n",
       "      <td>0.1164</td>\n",
       "      <td>0.0870</td>\n",
       "      <td>0.0576</td>\n",
       "      <td>0.0576</td>\n",
       "      <td>0.405605</td>\n",
       "      <td>0.171377</td>\n",
       "      <td>0.106205</td>\n",
       "      <td>0.316813</td>\n",
       "    </tr>\n",
       "  </tbody>\n",
       "</table>\n",
       "<p>5 rows × 47 columns</p>\n",
       "</div>"
      ],
      "text/plain": [
       "      ID  COUNTY               NAME           STNAME  POPESTIMATE2015  \\\n",
       "0  10050   10050             Albury  New South Wales            56036   \n",
       "1  10180   10180  Armidale Regional  New South Wales            29332   \n",
       "2  10250   10250            Ballina  New South Wales            46172   \n",
       "3  10300   10300          Balranald  New South Wales             2207   \n",
       "4  10470   10470  Bathurst Regional  New South Wales            43653   \n",
       "\n",
       "             CTYNAME  TOT_POP  TOT_MALE  TOT_FEMALE     WHITE  ...  35..50  \\\n",
       "0             Albury    56036  0.487401    0.512599  0.522188  ...  0.0980   \n",
       "1  Armidale Regional    29332  0.485068    0.514932  0.522188  ...  0.1096   \n",
       "2            Ballina    46172  0.486529    0.513471  0.522188  ...  0.1108   \n",
       "3          Balranald     2207  0.496602    0.503398  0.522188  ...  0.1156   \n",
       "4  Bathurst Regional    43653  0.507594    0.492406  0.522188  ...  0.1192   \n",
       "\n",
       "   50..75  75..100  100..150  150..200  200..999  LESS_THAN_HS  HS_DEGREE  \\\n",
       "0  0.0976   0.0976    0.1008    0.1040    0.1040      0.405605   0.171377   \n",
       "1  0.1120   0.1120    0.0956    0.0792    0.0792      0.405605   0.171377   \n",
       "2  0.0924   0.0924    0.0826    0.0728    0.0728      0.405605   0.171377   \n",
       "3  0.0908   0.0908    0.0828    0.0748    0.0748      0.405605   0.171377   \n",
       "4  0.1164   0.1164    0.0870    0.0576    0.0576      0.405605   0.171377   \n",
       "\n",
       "   SOME_COLLEGE  BS_DEGREE  \n",
       "0      0.106205   0.316813  \n",
       "1      0.106205   0.316813  \n",
       "2      0.106205   0.316813  \n",
       "3      0.106205   0.316813  \n",
       "4      0.106205   0.316813  \n",
       "\n",
       "[5 rows x 47 columns]"
      ]
     },
     "execution_count": 129,
     "metadata": {},
     "output_type": "execute_result"
    }
   ],
   "source": [
    "demog = pd.read_csv(\"/Users/cindy_homefolder/Desktop/y1s2/ENGR90033/choropleth map/synthea 2023/australian data/demographics_au.csv\")\n",
    "demog.head()"
   ]
  },
  {
   "cell_type": "code",
   "execution_count": 130,
   "metadata": {},
   "outputs": [
    {
     "data": {
      "text/plain": [
       "CTYNAME\n",
       "Adelaide           1\n",
       "Adelaide Hills     1\n",
       "Adelaide Plains    1\n",
       "Albany             1\n",
       "Albury             1\n",
       "                  ..\n",
       "Yarriambiack       1\n",
       "Yass Valley        1\n",
       "Yilgarn            1\n",
       "York               1\n",
       "Yorke Peninsula    1\n",
       "Length: 546, dtype: int64"
      ]
     },
     "execution_count": 130,
     "metadata": {},
     "output_type": "execute_result"
    }
   ],
   "source": [
    "demog.groupby('CTYNAME').size()"
   ]
  },
  {
   "cell_type": "markdown",
   "metadata": {},
   "source": [
    "Take city as a common column, filter the common city that occurs in both datasets, victoria zipcode and anxiety df, then spread the postcode by ID column in anxiety datasets."
   ]
  },
  {
   "cell_type": "code",
   "execution_count": 131,
   "metadata": {},
   "outputs": [
    {
     "data": {
      "text/plain": [
       "False    469\n",
       "True      77\n",
       "Name: CTYNAME, dtype: int64"
      ]
     },
     "execution_count": 131,
     "metadata": {},
     "output_type": "execute_result"
    }
   ],
   "source": [
    "# vic_zipcode['NAME'].isin(demog['CTYNAME']).value_counts() #True : 3413 has repeated values\n",
    "demog['CTYNAME'].isin(vic_zipcode['NAME']).value_counts()"
   ]
  },
  {
   "cell_type": "code",
   "execution_count": null,
   "metadata": {},
   "outputs": [],
   "source": [
    "# demog got no postcode column, so I have to use vic_zipcode\n",
    "# demog['CTYNAME'].loc[demog['CTYNAME'].isin(vic_zipcode['NAME'])]\n",
    "demog[demog['CTYNAME'].isin(vic_zipcode['NAME'])]"
   ]
  },
  {
   "cell_type": "code",
   "execution_count": 138,
   "metadata": {},
   "outputs": [],
   "source": [
    "unified_vic_zipcode = vic_zipcode[vic_zipcode['NAME'].isin(demog['CTYNAME'])]"
   ]
  },
  {
   "cell_type": "code",
   "execution_count": 144,
   "metadata": {},
   "outputs": [
    {
     "data": {
      "text/plain": [
       "(3413, 6)"
      ]
     },
     "execution_count": 144,
     "metadata": {},
     "output_type": "execute_result"
    }
   ],
   "source": [
    "unified_vic_zipcode.shape"
   ]
  },
  {
   "cell_type": "code",
   "execution_count": 143,
   "metadata": {},
   "outputs": [
    {
     "data": {
      "text/plain": [
       "722"
      ]
     },
     "execution_count": 143,
     "metadata": {},
     "output_type": "execute_result"
    }
   ],
   "source": [
    "len(unified_vic_zipcode.ZCTA5.unique())"
   ]
  },
  {
   "cell_type": "code",
   "execution_count": 150,
   "metadata": {},
   "outputs": [
    {
     "data": {
      "text/plain": [
       "664"
      ]
     },
     "execution_count": 150,
     "metadata": {},
     "output_type": "execute_result"
    }
   ],
   "source": [
    "len(anxiety_df.groupby('Id').size())"
   ]
  },
  {
   "cell_type": "markdown",
   "metadata": {},
   "source": [
    "**664 patients's postcode need to be replaced using 722 available postcodes in Victoria.**"
   ]
  },
  {
   "cell_type": "code",
   "execution_count": null,
   "metadata": {},
   "outputs": [],
   "source": [
    "unified_vic_zipcode.groupby('ZCTA5').size()"
   ]
  },
  {
   "cell_type": "code",
   "execution_count": 159,
   "metadata": {},
   "outputs": [
    {
     "name": "stderr",
     "output_type": "stream",
     "text": [
      "/var/folders/vt/3bwlqrgx039fhm0gqgx_mlyc0000gn/T/ipykernel_14870/1593299730.py:5: SettingWithCopyWarning: \n",
      "A value is trying to be set on a copy of a slice from a DataFrame.\n",
      "Try using .loc[row_indexer,col_indexer] = value instead\n",
      "\n",
      "See the caveats in the documentation: https://pandas.pydata.org/pandas-docs/stable/user_guide/indexing.html#returning-a-view-versus-a-copy\n",
      "  anxiety_df['ZIP'] = anxiety_df['Id'].map(id_to_zip)\n"
     ]
    }
   ],
   "source": [
    "# Create a mapping between 'Id' and 'ZIP'\n",
    "id_to_zip = dict(zip(anxiety_df['Id'].unique(), unified_vic_zipcode['ZCTA5']))\n",
    "\n",
    "# Use the map function to replace 'ZIP' values based on 'Id'\n",
    "anxiety_df['ZIP'] = anxiety_df['Id'].map(id_to_zip)"
   ]
  },
  {
   "cell_type": "markdown",
   "metadata": {},
   "source": [
    "### After replacement, let's have a look at the new dataset."
   ]
  },
  {
   "cell_type": "code",
   "execution_count": 171,
   "metadata": {},
   "outputs": [
    {
     "data": {
      "text/plain": [
       "(14334, 11)"
      ]
     },
     "execution_count": 171,
     "metadata": {},
     "output_type": "execute_result"
    }
   ],
   "source": [
    "anxiety_df.shape"
   ]
  },
  {
   "cell_type": "code",
   "execution_count": 169,
   "metadata": {},
   "outputs": [
    {
     "data": {
      "text/html": [
       "<div>\n",
       "<style scoped>\n",
       "    .dataframe tbody tr th:only-of-type {\n",
       "        vertical-align: middle;\n",
       "    }\n",
       "\n",
       "    .dataframe tbody tr th {\n",
       "        vertical-align: top;\n",
       "    }\n",
       "\n",
       "    .dataframe thead th {\n",
       "        text-align: right;\n",
       "    }\n",
       "</style>\n",
       "<table border=\"1\" class=\"dataframe\">\n",
       "  <thead>\n",
       "    <tr style=\"text-align: right;\">\n",
       "      <th></th>\n",
       "      <th>Id</th>\n",
       "      <th>ZIP</th>\n",
       "      <th>RACE</th>\n",
       "      <th>GENDER</th>\n",
       "      <th>ETHNICITY</th>\n",
       "      <th>INCOME</th>\n",
       "      <th>HEALTHCARE_EXPENSES</th>\n",
       "      <th>HEALTHCARE_COVERAGE</th>\n",
       "      <th>CONDITION</th>\n",
       "      <th>OBSERVED_CONDITION</th>\n",
       "      <th>VALUE</th>\n",
       "    </tr>\n",
       "  </thead>\n",
       "  <tbody>\n",
       "    <tr>\n",
       "      <th>0</th>\n",
       "      <td>16c73553-9400-1f2c-bcf9-7b5ef75150d2</td>\n",
       "      <td>3000</td>\n",
       "      <td>white</td>\n",
       "      <td>F</td>\n",
       "      <td>hispanic</td>\n",
       "      <td>45504</td>\n",
       "      <td>286834.48</td>\n",
       "      <td>130435.94</td>\n",
       "      <td>Severe anxiety (panic) (finding)</td>\n",
       "      <td>Generalized anxiety disorder 7 item (GAD-7) to...</td>\n",
       "      <td>3.0</td>\n",
       "    </tr>\n",
       "    <tr>\n",
       "      <th>1</th>\n",
       "      <td>16c73553-9400-1f2c-bcf9-7b5ef75150d2</td>\n",
       "      <td>3000</td>\n",
       "      <td>white</td>\n",
       "      <td>F</td>\n",
       "      <td>hispanic</td>\n",
       "      <td>45504</td>\n",
       "      <td>286834.48</td>\n",
       "      <td>130435.94</td>\n",
       "      <td>Severe anxiety (panic) (finding)</td>\n",
       "      <td>Generalized anxiety disorder 7 item (GAD-7) to...</td>\n",
       "      <td>3.0</td>\n",
       "    </tr>\n",
       "    <tr>\n",
       "      <th>2</th>\n",
       "      <td>16c73553-9400-1f2c-bcf9-7b5ef75150d2</td>\n",
       "      <td>3000</td>\n",
       "      <td>white</td>\n",
       "      <td>F</td>\n",
       "      <td>hispanic</td>\n",
       "      <td>45504</td>\n",
       "      <td>286834.48</td>\n",
       "      <td>130435.94</td>\n",
       "      <td>Severe anxiety (panic) (finding)</td>\n",
       "      <td>Generalized anxiety disorder 7 item (GAD-7) to...</td>\n",
       "      <td>21.0</td>\n",
       "    </tr>\n",
       "    <tr>\n",
       "      <th>3</th>\n",
       "      <td>16c73553-9400-1f2c-bcf9-7b5ef75150d2</td>\n",
       "      <td>3000</td>\n",
       "      <td>white</td>\n",
       "      <td>F</td>\n",
       "      <td>hispanic</td>\n",
       "      <td>45504</td>\n",
       "      <td>286834.48</td>\n",
       "      <td>130435.94</td>\n",
       "      <td>Severe anxiety (panic) (finding)</td>\n",
       "      <td>Generalized anxiety disorder 7 item (GAD-7) to...</td>\n",
       "      <td>2.0</td>\n",
       "    </tr>\n",
       "    <tr>\n",
       "      <th>4</th>\n",
       "      <td>16c73553-9400-1f2c-bcf9-7b5ef75150d2</td>\n",
       "      <td>3000</td>\n",
       "      <td>white</td>\n",
       "      <td>F</td>\n",
       "      <td>hispanic</td>\n",
       "      <td>45504</td>\n",
       "      <td>286834.48</td>\n",
       "      <td>130435.94</td>\n",
       "      <td>Severe anxiety (panic) (finding)</td>\n",
       "      <td>Generalized anxiety disorder 7 item (GAD-7) to...</td>\n",
       "      <td>3.0</td>\n",
       "    </tr>\n",
       "  </tbody>\n",
       "</table>\n",
       "</div>"
      ],
      "text/plain": [
       "                                     Id   ZIP   RACE GENDER ETHNICITY  INCOME  \\\n",
       "0  16c73553-9400-1f2c-bcf9-7b5ef75150d2  3000  white      F  hispanic   45504   \n",
       "1  16c73553-9400-1f2c-bcf9-7b5ef75150d2  3000  white      F  hispanic   45504   \n",
       "2  16c73553-9400-1f2c-bcf9-7b5ef75150d2  3000  white      F  hispanic   45504   \n",
       "3  16c73553-9400-1f2c-bcf9-7b5ef75150d2  3000  white      F  hispanic   45504   \n",
       "4  16c73553-9400-1f2c-bcf9-7b5ef75150d2  3000  white      F  hispanic   45504   \n",
       "\n",
       "   HEALTHCARE_EXPENSES  HEALTHCARE_COVERAGE                         CONDITION  \\\n",
       "0            286834.48            130435.94  Severe anxiety (panic) (finding)   \n",
       "1            286834.48            130435.94  Severe anxiety (panic) (finding)   \n",
       "2            286834.48            130435.94  Severe anxiety (panic) (finding)   \n",
       "3            286834.48            130435.94  Severe anxiety (panic) (finding)   \n",
       "4            286834.48            130435.94  Severe anxiety (panic) (finding)   \n",
       "\n",
       "                                  OBSERVED_CONDITION VALUE  \n",
       "0  Generalized anxiety disorder 7 item (GAD-7) to...   3.0  \n",
       "1  Generalized anxiety disorder 7 item (GAD-7) to...   3.0  \n",
       "2  Generalized anxiety disorder 7 item (GAD-7) to...  21.0  \n",
       "3  Generalized anxiety disorder 7 item (GAD-7) to...   2.0  \n",
       "4  Generalized anxiety disorder 7 item (GAD-7) to...   3.0  "
      ]
     },
     "execution_count": 169,
     "metadata": {},
     "output_type": "execute_result"
    }
   ],
   "source": [
    "anxiety_df.head()"
   ]
  },
  {
   "cell_type": "code",
   "execution_count": 161,
   "metadata": {},
   "outputs": [
    {
     "data": {
      "text/plain": [
       "212"
      ]
     },
     "execution_count": 161,
     "metadata": {},
     "output_type": "execute_result"
    }
   ],
   "source": [
    "len(anxiety_df.ZIP.unique())"
   ]
  },
  {
   "cell_type": "code",
   "execution_count": 166,
   "metadata": {},
   "outputs": [
    {
     "data": {
      "text/plain": [
       "ZIP\n",
       "3000      7\n",
       "3001      3\n",
       "3002     15\n",
       "3003     11\n",
       "3004     57\n",
       "       ... \n",
       "3249    475\n",
       "3250     87\n",
       "3251     47\n",
       "3254      3\n",
       "3260    372\n",
       "Length: 212, dtype: int64"
      ]
     },
     "execution_count": 166,
     "metadata": {},
     "output_type": "execute_result"
    }
   ],
   "source": [
    "anxiety_df.groupby('ZIP').size()"
   ]
  },
  {
   "cell_type": "code",
   "execution_count": 168,
   "metadata": {},
   "outputs": [
    {
     "data": {
      "text/plain": [
       "15"
      ]
     },
     "execution_count": 168,
     "metadata": {},
     "output_type": "execute_result"
    }
   ],
   "source": [
    "# Check number of patients in one zip code\n",
    "anxiety_df[anxiety_df.ZIP == 3260].Id.nunique()"
   ]
  },
  {
   "cell_type": "code",
   "execution_count": 164,
   "metadata": {},
   "outputs": [
    {
     "data": {
      "text/plain": [
       "Id                                    ZIP \n",
       "012aea97-b365-89a3-9a5e-f01882baf2d9  3065    50\n",
       "0135a402-de4f-03f7-9b57-b21235269361  3161     5\n",
       "0141371c-5848-c0d1-153b-29ec44de0561  3072     2\n",
       "02852ee9-4629-e1f6-116f-fa52d77f2845  3216    15\n",
       "028b01e2-02dc-e79e-54e3-856f9d3a8ed7  3103    18\n",
       "                                              ..\n",
       "fceacc48-c665-c4e2-ec22-e3d589336a4e  3040     9\n",
       "fe6df80f-acff-34b4-3f60-f9f4f09e8a1c  3204     1\n",
       "fe6ec497-bb8d-f614-5bcd-25324a5edd53  3121    56\n",
       "feeb4853-6336-a868-130f-b733e4a17aca  3061     2\n",
       "fffe51a2-5f76-d521-6079-bce7b606b42e  3207     4\n",
       "Length: 664, dtype: int64"
      ]
     },
     "execution_count": 164,
     "metadata": {},
     "output_type": "execute_result"
    }
   ],
   "source": [
    "# Having the same number of patients\n",
    "anxiety_df.groupby(['Id', 'ZIP']).size()"
   ]
  },
  {
   "cell_type": "code",
   "execution_count": 170,
   "metadata": {},
   "outputs": [],
   "source": [
    "anxiety_df.to_csv(\"vic_anxiety.csv\", encoding='utf-8', index=False)"
   ]
  }
 ],
 "metadata": {
  "kernelspec": {
   "display_name": "Python 3",
   "language": "python",
   "name": "python3"
  },
  "language_info": {
   "codemirror_mode": {
    "name": "ipython",
    "version": 3
   },
   "file_extension": ".py",
   "mimetype": "text/x-python",
   "name": "python",
   "nbconvert_exporter": "python",
   "pygments_lexer": "ipython3",
   "version": "3.9.13"
  },
  "orig_nbformat": 4
 },
 "nbformat": 4,
 "nbformat_minor": 2
}
